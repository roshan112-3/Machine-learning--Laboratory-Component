{
 "cells": [
  {
   "cell_type": "code",
   "execution_count": 1,
   "id": "eb50df20",
   "metadata": {},
   "outputs": [
    {
     "name": "stdout",
     "output_type": "stream",
     "text": [
      "Defaulting to user installation because normal site-packages is not writeable\n",
      "Collecting ipython-autotime\n",
      "  Downloading ipython_autotime-0.3.1-py2.py3-none-any.whl (6.8 kB)\n",
      "Requirement already satisfied: ipython in c:\\anaconda\\lib\\site-packages (from ipython-autotime) (8.2.0)\n",
      "Requirement already satisfied: stack-data in c:\\anaconda\\lib\\site-packages (from ipython->ipython-autotime) (0.2.0)\n",
      "Requirement already satisfied: prompt-toolkit!=3.0.0,!=3.0.1,<3.1.0,>=2.0.0 in c:\\anaconda\\lib\\site-packages (from ipython->ipython-autotime) (3.0.20)\n",
      "Requirement already satisfied: colorama in c:\\anaconda\\lib\\site-packages (from ipython->ipython-autotime) (0.4.4)\n",
      "Requirement already satisfied: jedi>=0.16 in c:\\anaconda\\lib\\site-packages (from ipython->ipython-autotime) (0.18.1)\n",
      "Requirement already satisfied: matplotlib-inline in c:\\anaconda\\lib\\site-packages (from ipython->ipython-autotime) (0.1.2)\n",
      "Requirement already satisfied: pygments>=2.4.0 in c:\\anaconda\\lib\\site-packages (from ipython->ipython-autotime) (2.11.2)\n",
      "Requirement already satisfied: setuptools>=18.5 in c:\\anaconda\\lib\\site-packages (from ipython->ipython-autotime) (61.2.0)\n",
      "Requirement already satisfied: backcall in c:\\anaconda\\lib\\site-packages (from ipython->ipython-autotime) (0.2.0)\n",
      "Requirement already satisfied: pickleshare in c:\\anaconda\\lib\\site-packages (from ipython->ipython-autotime) (0.7.5)\n",
      "Requirement already satisfied: decorator in c:\\anaconda\\lib\\site-packages (from ipython->ipython-autotime) (5.1.1)\n",
      "Requirement already satisfied: traitlets>=5 in c:\\anaconda\\lib\\site-packages (from ipython->ipython-autotime) (5.1.1)\n",
      "Requirement already satisfied: parso<0.9.0,>=0.8.0 in c:\\anaconda\\lib\\site-packages (from jedi>=0.16->ipython->ipython-autotime) (0.8.3)\n",
      "Requirement already satisfied: wcwidth in c:\\anaconda\\lib\\site-packages (from prompt-toolkit!=3.0.0,!=3.0.1,<3.1.0,>=2.0.0->ipython->ipython-autotime) (0.2.5)\n",
      "Requirement already satisfied: asttokens in c:\\anaconda\\lib\\site-packages (from stack-data->ipython->ipython-autotime) (2.0.5)\n",
      "Requirement already satisfied: pure-eval in c:\\anaconda\\lib\\site-packages (from stack-data->ipython->ipython-autotime) (0.2.2)\n",
      "Requirement already satisfied: executing in c:\\anaconda\\lib\\site-packages (from stack-data->ipython->ipython-autotime) (0.8.3)\n",
      "Requirement already satisfied: six in c:\\anaconda\\lib\\site-packages (from asttokens->stack-data->ipython->ipython-autotime) (1.16.0)\n",
      "Installing collected packages: ipython-autotime\n",
      "Successfully installed ipython-autotime-0.3.1\n",
      "time: 16 ms (started: 2022-11-08 20:33:47 +05:30)\n"
     ]
    }
   ],
   "source": [
    "!pip install ipython-autotime\n",
    "%load_ext autotime"
   ]
  },
  {
   "cell_type": "code",
   "execution_count": 2,
   "id": "18e9eeeb",
   "metadata": {},
   "outputs": [
    {
     "name": "stdout",
     "output_type": "stream",
     "text": [
      "time: 4.11 s (started: 2022-11-08 20:34:02 +05:30)\n"
     ]
    }
   ],
   "source": [
    "#import statement\n",
    "import pandas as pd\n",
    "import numpy as np\n",
    "from sklearn.model_selection import train_test_split\n",
    "from sklearn.preprocessing import MinMaxScaler\n",
    "from sklearn import svm\n",
    "from sklearn.neighbors import KNeighborsClassifier\n",
    "from sklearn.neural_network import MLPClassifier"
   ]
  },
  {
   "cell_type": "code",
   "execution_count": 3,
   "id": "0ea53f06",
   "metadata": {},
   "outputs": [
    {
     "name": "stdout",
     "output_type": "stream",
     "text": [
      "                      date  Appliances  lights         T1       RH_1  \\\n",
      "0      2016-01-11 17:00:00          60      30  19.890000  47.596667   \n",
      "1      2016-01-11 17:10:00          60      30  19.890000  46.693333   \n",
      "2      2016-01-11 17:20:00          50      30  19.890000  46.300000   \n",
      "3      2016-01-11 17:30:00          50      40  19.890000  46.066667   \n",
      "4      2016-01-11 17:40:00          60      40  19.890000  46.333333   \n",
      "...                    ...         ...     ...        ...        ...   \n",
      "19730  2016-05-27 17:20:00         100       0  25.566667  46.560000   \n",
      "19731  2016-05-27 17:30:00          90       0  25.500000  46.500000   \n",
      "19732  2016-05-27 17:40:00         270      10  25.500000  46.596667   \n",
      "19733  2016-05-27 17:50:00         420      10  25.500000  46.990000   \n",
      "19734  2016-05-27 18:00:00         430      10  25.500000  46.600000   \n",
      "\n",
      "              T2       RH_2         T3       RH_3         T4  ...         T9  \\\n",
      "0      19.200000  44.790000  19.790000  44.730000  19.000000  ...  17.033333   \n",
      "1      19.200000  44.722500  19.790000  44.790000  19.000000  ...  17.066667   \n",
      "2      19.200000  44.626667  19.790000  44.933333  18.926667  ...  17.000000   \n",
      "3      19.200000  44.590000  19.790000  45.000000  18.890000  ...  17.000000   \n",
      "4      19.200000  44.530000  19.790000  45.000000  18.890000  ...  17.000000   \n",
      "...          ...        ...        ...        ...        ...  ...        ...   \n",
      "19730  25.890000  42.025714  27.200000  41.163333  24.700000  ...  23.200000   \n",
      "19731  25.754000  42.080000  27.133333  41.223333  24.700000  ...  23.200000   \n",
      "19732  25.628571  42.768571  27.050000  41.690000  24.700000  ...  23.200000   \n",
      "19733  25.414000  43.036000  26.890000  41.290000  24.700000  ...  23.200000   \n",
      "19734  25.264286  42.971429  26.823333  41.156667  24.700000  ...  23.200000   \n",
      "\n",
      "          RH_9      T_out  Press_mm_hg     RH_out  Windspeed  Visibility  \\\n",
      "0      45.5300   6.600000        733.5  92.000000   7.000000   63.000000   \n",
      "1      45.5600   6.483333        733.6  92.000000   6.666667   59.166667   \n",
      "2      45.5000   6.366667        733.7  92.000000   6.333333   55.333333   \n",
      "3      45.4000   6.250000        733.8  92.000000   6.000000   51.500000   \n",
      "4      45.4000   6.133333        733.9  92.000000   5.666667   47.666667   \n",
      "...        ...        ...          ...        ...        ...         ...   \n",
      "19730  46.7900  22.733333        755.2  55.666667   3.333333   23.666667   \n",
      "19731  46.7900  22.600000        755.2  56.000000   3.500000   24.500000   \n",
      "19732  46.7900  22.466667        755.2  56.333333   3.666667   25.333333   \n",
      "19733  46.8175  22.333333        755.2  56.666667   3.833333   26.166667   \n",
      "19734  46.8450  22.200000        755.2  57.000000   4.000000   27.000000   \n",
      "\n",
      "       Tdewpoint        rv1        rv2  \n",
      "0       5.300000  13.275433  13.275433  \n",
      "1       5.200000  18.606195  18.606195  \n",
      "2       5.100000  28.642668  28.642668  \n",
      "3       5.000000  45.410389  45.410389  \n",
      "4       4.900000  10.084097  10.084097  \n",
      "...          ...        ...        ...  \n",
      "19730  13.333333  43.096812  43.096812  \n",
      "19731  13.300000  49.282940  49.282940  \n",
      "19732  13.266667  29.199117  29.199117  \n",
      "19733  13.233333   6.322784   6.322784  \n",
      "19734  13.200000  34.118851  34.118851  \n",
      "\n",
      "[19735 rows x 29 columns]\n",
      "time: 265 ms (started: 2022-11-08 20:35:23 +05:30)\n"
     ]
    }
   ],
   "source": [
    "#reading dataset\n",
    "energy = pd.read_csv(r\"C:\\Users\\Admin\\OneDrive\\Desktop\\KAG_energydata_complete.csv\")\n",
    "print(energy)"
   ]
  },
  {
   "cell_type": "code",
   "execution_count": 4,
   "id": "81c7f32f",
   "metadata": {},
   "outputs": [
    {
     "name": "stdout",
     "output_type": "stream",
     "text": [
      "                      date  Appliances  lights         T1       RH_1  \\\n",
      "0      2016-01-11 17:00:00          60      30  19.890000  47.596667   \n",
      "1      2016-01-11 17:10:00          60      30  19.890000  46.693333   \n",
      "2      2016-01-11 17:20:00          50      30  19.890000  46.300000   \n",
      "3      2016-01-11 17:30:00          50      40  19.890000  46.066667   \n",
      "4      2016-01-11 17:40:00          60      40  19.890000  46.333333   \n",
      "...                    ...         ...     ...        ...        ...   \n",
      "19730  2016-05-27 17:20:00         100       0  25.566667  46.560000   \n",
      "19731  2016-05-27 17:30:00          90       0  25.500000  46.500000   \n",
      "19732  2016-05-27 17:40:00         270      10  25.500000  46.596667   \n",
      "19733  2016-05-27 17:50:00         420      10  25.500000  46.990000   \n",
      "19734  2016-05-27 18:00:00         430      10  25.500000  46.600000   \n",
      "\n",
      "              T2       RH_2         T3       RH_3         T4  ...     RH_9  \\\n",
      "0      19.200000  44.790000  19.790000  44.730000  19.000000  ...  45.5300   \n",
      "1      19.200000  44.722500  19.790000  44.790000  19.000000  ...  45.5600   \n",
      "2      19.200000  44.626667  19.790000  44.933333  18.926667  ...  45.5000   \n",
      "3      19.200000  44.590000  19.790000  45.000000  18.890000  ...  45.4000   \n",
      "4      19.200000  44.530000  19.790000  45.000000  18.890000  ...  45.4000   \n",
      "...          ...        ...        ...        ...        ...  ...      ...   \n",
      "19730  25.890000  42.025714  27.200000  41.163333  24.700000  ...  46.7900   \n",
      "19731  25.754000  42.080000  27.133333  41.223333  24.700000  ...  46.7900   \n",
      "19732  25.628571  42.768571  27.050000  41.690000  24.700000  ...  46.7900   \n",
      "19733  25.414000  43.036000  26.890000  41.290000  24.700000  ...  46.8175   \n",
      "19734  25.264286  42.971429  26.823333  41.156667  24.700000  ...  46.8450   \n",
      "\n",
      "           T_out  Press_mm_hg     RH_out  Windspeed  Visibility  Tdewpoint  \\\n",
      "0       6.600000        733.5  92.000000   7.000000   63.000000   5.300000   \n",
      "1       6.483333        733.6  92.000000   6.666667   59.166667   5.200000   \n",
      "2       6.366667        733.7  92.000000   6.333333   55.333333   5.100000   \n",
      "3       6.250000        733.8  92.000000   6.000000   51.500000   5.000000   \n",
      "4       6.133333        733.9  92.000000   5.666667   47.666667   4.900000   \n",
      "...          ...          ...        ...        ...         ...        ...   \n",
      "19730  22.733333        755.2  55.666667   3.333333   23.666667  13.333333   \n",
      "19731  22.600000        755.2  56.000000   3.500000   24.500000  13.300000   \n",
      "19732  22.466667        755.2  56.333333   3.666667   25.333333  13.266667   \n",
      "19733  22.333333        755.2  56.666667   3.833333   26.166667  13.233333   \n",
      "19734  22.200000        755.2  57.000000   4.000000   27.000000  13.200000   \n",
      "\n",
      "             rv1        rv2  class  \n",
      "0      13.275433  13.275433   high  \n",
      "1      18.606195  18.606195   high  \n",
      "2      28.642668  28.642668    low  \n",
      "3      45.410389  45.410389    low  \n",
      "4      10.084097  10.084097   high  \n",
      "...          ...        ...    ...  \n",
      "19730  43.096812  43.096812   high  \n",
      "19731  49.282940  49.282940   high  \n",
      "19732  29.199117  29.199117   high  \n",
      "19733   6.322784   6.322784   high  \n",
      "19734  34.118851  34.118851   high  \n",
      "\n",
      "[19735 rows x 30 columns]\n",
      "time: 31 ms (started: 2022-11-08 20:35:34 +05:30)\n"
     ]
    }
   ],
   "source": [
    "#classification based on appliance usage from LAB 3\n",
    "def explore(row: float):\n",
    "  if row >= 60:\n",
    "    return 'high'\n",
    "  else:\n",
    "    return 'low'\n",
    "\n",
    "appliance = energy['Appliances'].tolist()\n",
    "classified_data = []\n",
    "for i in appliance:\n",
    "  classified_data.append(explore(i))\n",
    "\n",
    "energy['class']=classified_data\n",
    "print(energy)"
   ]
  },
  {
   "cell_type": "code",
   "execution_count": 5,
   "id": "aaed9821",
   "metadata": {},
   "outputs": [
    {
     "data": {
      "text/html": [
       "<div>\n",
       "<style scoped>\n",
       "    .dataframe tbody tr th:only-of-type {\n",
       "        vertical-align: middle;\n",
       "    }\n",
       "\n",
       "    .dataframe tbody tr th {\n",
       "        vertical-align: top;\n",
       "    }\n",
       "\n",
       "    .dataframe thead th {\n",
       "        text-align: right;\n",
       "    }\n",
       "</style>\n",
       "<table border=\"1\" class=\"dataframe\">\n",
       "  <thead>\n",
       "    <tr style=\"text-align: right;\">\n",
       "      <th></th>\n",
       "      <th>date</th>\n",
       "      <th>Appliances</th>\n",
       "      <th>lights</th>\n",
       "      <th>T1</th>\n",
       "      <th>RH_1</th>\n",
       "      <th>T2</th>\n",
       "      <th>RH_2</th>\n",
       "      <th>T3</th>\n",
       "      <th>RH_3</th>\n",
       "      <th>T4</th>\n",
       "      <th>...</th>\n",
       "      <th>RH_9</th>\n",
       "      <th>T_out</th>\n",
       "      <th>Press_mm_hg</th>\n",
       "      <th>RH_out</th>\n",
       "      <th>Windspeed</th>\n",
       "      <th>Visibility</th>\n",
       "      <th>Tdewpoint</th>\n",
       "      <th>rv1</th>\n",
       "      <th>rv2</th>\n",
       "      <th>class</th>\n",
       "    </tr>\n",
       "  </thead>\n",
       "  <tbody>\n",
       "    <tr>\n",
       "      <th>0</th>\n",
       "      <td>2016-01-11 17:00:00</td>\n",
       "      <td>60</td>\n",
       "      <td>30</td>\n",
       "      <td>3.273495</td>\n",
       "      <td>5.661866</td>\n",
       "      <td>2.253453</td>\n",
       "      <td>6.840379</td>\n",
       "      <td>2.151878</td>\n",
       "      <td>7.460664</td>\n",
       "      <td>3.513514</td>\n",
       "      <td>...</td>\n",
       "      <td>6.772903</td>\n",
       "      <td>3.729904</td>\n",
       "      <td>0.976744</td>\n",
       "      <td>8.947368</td>\n",
       "      <td>5.000000</td>\n",
       "      <td>9.538462</td>\n",
       "      <td>5.384615</td>\n",
       "      <td>2.654489</td>\n",
       "      <td>2.654489</td>\n",
       "      <td>high</td>\n",
       "    </tr>\n",
       "    <tr>\n",
       "      <th>1</th>\n",
       "      <td>2016-01-11 17:10:00</td>\n",
       "      <td>60</td>\n",
       "      <td>30</td>\n",
       "      <td>3.273495</td>\n",
       "      <td>5.413265</td>\n",
       "      <td>2.253453</td>\n",
       "      <td>6.821398</td>\n",
       "      <td>2.151878</td>\n",
       "      <td>7.488705</td>\n",
       "      <td>3.513514</td>\n",
       "      <td>...</td>\n",
       "      <td>6.785320</td>\n",
       "      <td>3.692390</td>\n",
       "      <td>1.000000</td>\n",
       "      <td>8.947368</td>\n",
       "      <td>4.761905</td>\n",
       "      <td>8.948718</td>\n",
       "      <td>5.339367</td>\n",
       "      <td>3.720829</td>\n",
       "      <td>3.720829</td>\n",
       "      <td>high</td>\n",
       "    </tr>\n",
       "    <tr>\n",
       "      <th>2</th>\n",
       "      <td>2016-01-11 17:20:00</td>\n",
       "      <td>50</td>\n",
       "      <td>30</td>\n",
       "      <td>3.273495</td>\n",
       "      <td>5.305018</td>\n",
       "      <td>2.253453</td>\n",
       "      <td>6.794451</td>\n",
       "      <td>2.151878</td>\n",
       "      <td>7.555694</td>\n",
       "      <td>3.447447</td>\n",
       "      <td>...</td>\n",
       "      <td>6.760486</td>\n",
       "      <td>3.654877</td>\n",
       "      <td>1.023256</td>\n",
       "      <td>8.947368</td>\n",
       "      <td>4.523810</td>\n",
       "      <td>8.358974</td>\n",
       "      <td>5.294118</td>\n",
       "      <td>5.728477</td>\n",
       "      <td>5.728477</td>\n",
       "      <td>low</td>\n",
       "    </tr>\n",
       "    <tr>\n",
       "      <th>3</th>\n",
       "      <td>2016-01-11 17:30:00</td>\n",
       "      <td>50</td>\n",
       "      <td>40</td>\n",
       "      <td>3.273495</td>\n",
       "      <td>5.240804</td>\n",
       "      <td>2.253453</td>\n",
       "      <td>6.784141</td>\n",
       "      <td>2.151878</td>\n",
       "      <td>7.586852</td>\n",
       "      <td>3.414414</td>\n",
       "      <td>...</td>\n",
       "      <td>6.719095</td>\n",
       "      <td>3.617363</td>\n",
       "      <td>1.046512</td>\n",
       "      <td>8.947368</td>\n",
       "      <td>4.285714</td>\n",
       "      <td>7.769231</td>\n",
       "      <td>5.248869</td>\n",
       "      <td>9.082611</td>\n",
       "      <td>9.082611</td>\n",
       "      <td>low</td>\n",
       "    </tr>\n",
       "    <tr>\n",
       "      <th>4</th>\n",
       "      <td>2016-01-11 17:40:00</td>\n",
       "      <td>60</td>\n",
       "      <td>40</td>\n",
       "      <td>3.273495</td>\n",
       "      <td>5.314191</td>\n",
       "      <td>2.253453</td>\n",
       "      <td>6.767270</td>\n",
       "      <td>2.151878</td>\n",
       "      <td>7.586852</td>\n",
       "      <td>3.414414</td>\n",
       "      <td>...</td>\n",
       "      <td>6.719095</td>\n",
       "      <td>3.579850</td>\n",
       "      <td>1.069767</td>\n",
       "      <td>8.947368</td>\n",
       "      <td>4.047619</td>\n",
       "      <td>7.179487</td>\n",
       "      <td>5.203620</td>\n",
       "      <td>2.016109</td>\n",
       "      <td>2.016109</td>\n",
       "      <td>high</td>\n",
       "    </tr>\n",
       "    <tr>\n",
       "      <th>...</th>\n",
       "      <td>...</td>\n",
       "      <td>...</td>\n",
       "      <td>...</td>\n",
       "      <td>...</td>\n",
       "      <td>...</td>\n",
       "      <td>...</td>\n",
       "      <td>...</td>\n",
       "      <td>...</td>\n",
       "      <td>...</td>\n",
       "      <td>...</td>\n",
       "      <td>...</td>\n",
       "      <td>...</td>\n",
       "      <td>...</td>\n",
       "      <td>...</td>\n",
       "      <td>...</td>\n",
       "      <td>...</td>\n",
       "      <td>...</td>\n",
       "      <td>...</td>\n",
       "      <td>...</td>\n",
       "      <td>...</td>\n",
       "      <td>...</td>\n",
       "    </tr>\n",
       "    <tr>\n",
       "      <th>19730</th>\n",
       "      <td>2016-05-27 17:20:00</td>\n",
       "      <td>100</td>\n",
       "      <td>0</td>\n",
       "      <td>9.267863</td>\n",
       "      <td>5.376571</td>\n",
       "      <td>7.116550</td>\n",
       "      <td>6.063093</td>\n",
       "      <td>8.308408</td>\n",
       "      <td>5.793737</td>\n",
       "      <td>8.648649</td>\n",
       "      <td>...</td>\n",
       "      <td>7.294426</td>\n",
       "      <td>8.917471</td>\n",
       "      <td>6.023256</td>\n",
       "      <td>4.166667</td>\n",
       "      <td>2.380952</td>\n",
       "      <td>3.487179</td>\n",
       "      <td>9.019608</td>\n",
       "      <td>8.619814</td>\n",
       "      <td>8.619814</td>\n",
       "      <td>high</td>\n",
       "    </tr>\n",
       "    <tr>\n",
       "      <th>19731</th>\n",
       "      <td>2016-05-27 17:30:00</td>\n",
       "      <td>90</td>\n",
       "      <td>0</td>\n",
       "      <td>9.197466</td>\n",
       "      <td>5.360059</td>\n",
       "      <td>7.017688</td>\n",
       "      <td>6.078358</td>\n",
       "      <td>8.253019</td>\n",
       "      <td>5.821779</td>\n",
       "      <td>8.648649</td>\n",
       "      <td>...</td>\n",
       "      <td>7.294426</td>\n",
       "      <td>8.874598</td>\n",
       "      <td>6.023256</td>\n",
       "      <td>4.210526</td>\n",
       "      <td>2.500000</td>\n",
       "      <td>3.615385</td>\n",
       "      <td>9.004525</td>\n",
       "      <td>9.857257</td>\n",
       "      <td>9.857257</td>\n",
       "      <td>high</td>\n",
       "    </tr>\n",
       "    <tr>\n",
       "      <th>19732</th>\n",
       "      <td>2016-05-27 17:40:00</td>\n",
       "      <td>270</td>\n",
       "      <td>10</td>\n",
       "      <td>9.197466</td>\n",
       "      <td>5.386662</td>\n",
       "      <td>6.926512</td>\n",
       "      <td>6.271976</td>\n",
       "      <td>8.183782</td>\n",
       "      <td>6.039882</td>\n",
       "      <td>8.648649</td>\n",
       "      <td>...</td>\n",
       "      <td>7.294426</td>\n",
       "      <td>8.831726</td>\n",
       "      <td>6.023256</td>\n",
       "      <td>4.254386</td>\n",
       "      <td>2.619048</td>\n",
       "      <td>3.743590</td>\n",
       "      <td>8.989442</td>\n",
       "      <td>5.839786</td>\n",
       "      <td>5.839786</td>\n",
       "      <td>high</td>\n",
       "    </tr>\n",
       "    <tr>\n",
       "      <th>19733</th>\n",
       "      <td>2016-05-27 17:50:00</td>\n",
       "      <td>420</td>\n",
       "      <td>10</td>\n",
       "      <td>9.197466</td>\n",
       "      <td>5.494909</td>\n",
       "      <td>6.770535</td>\n",
       "      <td>6.347174</td>\n",
       "      <td>8.050847</td>\n",
       "      <td>5.852937</td>\n",
       "      <td>8.648649</td>\n",
       "      <td>...</td>\n",
       "      <td>7.305808</td>\n",
       "      <td>8.788853</td>\n",
       "      <td>6.023256</td>\n",
       "      <td>4.298246</td>\n",
       "      <td>2.738095</td>\n",
       "      <td>3.871795</td>\n",
       "      <td>8.974359</td>\n",
       "      <td>1.263715</td>\n",
       "      <td>1.263715</td>\n",
       "      <td>high</td>\n",
       "    </tr>\n",
       "    <tr>\n",
       "      <th>19734</th>\n",
       "      <td>2016-05-27 18:00:00</td>\n",
       "      <td>430</td>\n",
       "      <td>10</td>\n",
       "      <td>9.197466</td>\n",
       "      <td>5.387579</td>\n",
       "      <td>6.661705</td>\n",
       "      <td>6.329017</td>\n",
       "      <td>7.995458</td>\n",
       "      <td>5.790622</td>\n",
       "      <td>8.648649</td>\n",
       "      <td>...</td>\n",
       "      <td>7.317191</td>\n",
       "      <td>8.745981</td>\n",
       "      <td>6.023256</td>\n",
       "      <td>4.342105</td>\n",
       "      <td>2.857143</td>\n",
       "      <td>4.000000</td>\n",
       "      <td>8.959276</td>\n",
       "      <td>6.823906</td>\n",
       "      <td>6.823906</td>\n",
       "      <td>high</td>\n",
       "    </tr>\n",
       "  </tbody>\n",
       "</table>\n",
       "<p>19735 rows × 30 columns</p>\n",
       "</div>"
      ],
      "text/plain": [
       "                      date  Appliances  lights        T1      RH_1        T2  \\\n",
       "0      2016-01-11 17:00:00          60      30  3.273495  5.661866  2.253453   \n",
       "1      2016-01-11 17:10:00          60      30  3.273495  5.413265  2.253453   \n",
       "2      2016-01-11 17:20:00          50      30  3.273495  5.305018  2.253453   \n",
       "3      2016-01-11 17:30:00          50      40  3.273495  5.240804  2.253453   \n",
       "4      2016-01-11 17:40:00          60      40  3.273495  5.314191  2.253453   \n",
       "...                    ...         ...     ...       ...       ...       ...   \n",
       "19730  2016-05-27 17:20:00         100       0  9.267863  5.376571  7.116550   \n",
       "19731  2016-05-27 17:30:00          90       0  9.197466  5.360059  7.017688   \n",
       "19732  2016-05-27 17:40:00         270      10  9.197466  5.386662  6.926512   \n",
       "19733  2016-05-27 17:50:00         420      10  9.197466  5.494909  6.770535   \n",
       "19734  2016-05-27 18:00:00         430      10  9.197466  5.387579  6.661705   \n",
       "\n",
       "           RH_2        T3      RH_3        T4  ...      RH_9     T_out  \\\n",
       "0      6.840379  2.151878  7.460664  3.513514  ...  6.772903  3.729904   \n",
       "1      6.821398  2.151878  7.488705  3.513514  ...  6.785320  3.692390   \n",
       "2      6.794451  2.151878  7.555694  3.447447  ...  6.760486  3.654877   \n",
       "3      6.784141  2.151878  7.586852  3.414414  ...  6.719095  3.617363   \n",
       "4      6.767270  2.151878  7.586852  3.414414  ...  6.719095  3.579850   \n",
       "...         ...       ...       ...       ...  ...       ...       ...   \n",
       "19730  6.063093  8.308408  5.793737  8.648649  ...  7.294426  8.917471   \n",
       "19731  6.078358  8.253019  5.821779  8.648649  ...  7.294426  8.874598   \n",
       "19732  6.271976  8.183782  6.039882  8.648649  ...  7.294426  8.831726   \n",
       "19733  6.347174  8.050847  5.852937  8.648649  ...  7.305808  8.788853   \n",
       "19734  6.329017  7.995458  5.790622  8.648649  ...  7.317191  8.745981   \n",
       "\n",
       "       Press_mm_hg    RH_out  Windspeed  Visibility  Tdewpoint       rv1  \\\n",
       "0         0.976744  8.947368   5.000000    9.538462   5.384615  2.654489   \n",
       "1         1.000000  8.947368   4.761905    8.948718   5.339367  3.720829   \n",
       "2         1.023256  8.947368   4.523810    8.358974   5.294118  5.728477   \n",
       "3         1.046512  8.947368   4.285714    7.769231   5.248869  9.082611   \n",
       "4         1.069767  8.947368   4.047619    7.179487   5.203620  2.016109   \n",
       "...            ...       ...        ...         ...        ...       ...   \n",
       "19730     6.023256  4.166667   2.380952    3.487179   9.019608  8.619814   \n",
       "19731     6.023256  4.210526   2.500000    3.615385   9.004525  9.857257   \n",
       "19732     6.023256  4.254386   2.619048    3.743590   8.989442  5.839786   \n",
       "19733     6.023256  4.298246   2.738095    3.871795   8.974359  1.263715   \n",
       "19734     6.023256  4.342105   2.857143    4.000000   8.959276  6.823906   \n",
       "\n",
       "            rv2  class  \n",
       "0      2.654489   high  \n",
       "1      3.720829   high  \n",
       "2      5.728477    low  \n",
       "3      9.082611    low  \n",
       "4      2.016109   high  \n",
       "...         ...    ...  \n",
       "19730  8.619814   high  \n",
       "19731  9.857257   high  \n",
       "19732  5.839786   high  \n",
       "19733  1.263715   high  \n",
       "19734  6.823906   high  \n",
       "\n",
       "[19735 rows x 30 columns]"
      ]
     },
     "execution_count": 5,
     "metadata": {},
     "output_type": "execute_result"
    },
    {
     "name": "stdout",
     "output_type": "stream",
     "text": [
      "time: 140 ms (started: 2022-11-08 20:35:52 +05:30)\n"
     ]
    }
   ],
   "source": [
    "#scaling the data\n",
    "scaler = MinMaxScaler(feature_range=(0,10))\n",
    "energy[['T1','RH_1','T2','RH_2','T3','RH_3','T4','RH_4','T5','RH_5','T6','RH_6','T7','RH_7','T8','RH_8','T9','RH_9','T_out','Press_mm_hg','RH_out','Windspeed','Visibility','Tdewpoint','rv1','rv2']] = scaler.fit_transform(energy[['T1','RH_1','T2','RH_2','T3','RH_3','T4','RH_4','T5','RH_5','T6','RH_6','T7','RH_7','T8','RH_8','T9','RH_9','T_out','Press_mm_hg','RH_out','Windspeed','Visibility','Tdewpoint','rv1','rv2']])\n",
    "energy_transformed = energy\n",
    "energy_transformed"
   ]
  },
  {
   "cell_type": "code",
   "execution_count": 6,
   "id": "de809c70",
   "metadata": {},
   "outputs": [
    {
     "name": "stdout",
     "output_type": "stream",
     "text": [
      "time: 15 ms (started: 2022-11-08 20:36:02 +05:30)\n"
     ]
    }
   ],
   "source": [
    "#creating feature vector\n",
    "feature = energy_transformed.iloc[:, 3:29]"
   ]
  },
  {
   "cell_type": "code",
   "execution_count": 7,
   "id": "1255ae99",
   "metadata": {},
   "outputs": [
    {
     "name": "stdout",
     "output_type": "stream",
     "text": [
      "             T1      RH_1        T2      RH_2        T3      RH_3        T4  \\\n",
      "0      3.273495  5.661866  2.253453  6.840379  2.151878  7.460664  3.513514   \n",
      "1      3.273495  5.413265  2.253453  6.821398  2.151878  7.488705  3.513514   \n",
      "2      3.273495  5.305018  2.253453  6.794451  2.151878  7.555694  3.447447   \n",
      "3      3.273495  5.240804  2.253453  6.784141  2.151878  7.586852  3.414414   \n",
      "4      3.273495  5.314191  2.253453  6.767270  2.151878  7.586852  3.414414   \n",
      "...         ...       ...       ...       ...       ...       ...       ...   \n",
      "19730  9.267863  5.376571  7.116550  6.063093  8.308408  5.793737  8.648649   \n",
      "19731  9.197466  5.360059  7.017688  6.078358  8.253019  5.821779  8.648649   \n",
      "19732  9.197466  5.386662  6.926512  6.271976  8.183782  6.039882  8.648649   \n",
      "19733  9.197466  5.494909  6.770535  6.347174  8.050847  5.852937  8.648649   \n",
      "19734  9.197466  5.387579  6.661705  6.329017  7.995458  5.790622  8.648649   \n",
      "\n",
      "           RH_4        T5      RH_5  ...        T9      RH_9     T_out  \\\n",
      "0      7.642623  1.755057  3.816911  ...  2.230316  6.772903  3.729904   \n",
      "1      7.824370  1.755057  3.816911  ...  2.265002  6.785320  3.692390   \n",
      "2      7.780623  1.755057  3.800371  ...  2.195630  6.760486  3.654877   \n",
      "3      7.709489  1.755057  3.800371  ...  2.195630  6.719095  3.617363   \n",
      "4      7.626974  1.786909  3.800371  ...  2.195630  6.719095  3.579850   \n",
      "...         ...       ...       ...  ...       ...       ...       ...   \n",
      "19730  7.652582  7.520306  3.395900  ...  8.647242  7.294426  8.917471   \n",
      "19731  7.652582  7.548973  3.384874  ...  8.647242  7.294426  8.874598   \n",
      "19732  7.712335  7.548973  3.375852  ...  8.647242  7.294426  8.831726   \n",
      "19733  7.737943  7.520306  3.365828  ...  8.647242  7.305808  8.788853   \n",
      "19734  7.811922  7.520306  3.365828  ...  8.647242  7.317191  8.745981   \n",
      "\n",
      "       Press_mm_hg    RH_out  Windspeed  Visibility  Tdewpoint       rv1  \\\n",
      "0         0.976744  8.947368   5.000000    9.538462   5.384615  2.654489   \n",
      "1         1.000000  8.947368   4.761905    8.948718   5.339367  3.720829   \n",
      "2         1.023256  8.947368   4.523810    8.358974   5.294118  5.728477   \n",
      "3         1.046512  8.947368   4.285714    7.769231   5.248869  9.082611   \n",
      "4         1.069767  8.947368   4.047619    7.179487   5.203620  2.016109   \n",
      "...            ...       ...        ...         ...        ...       ...   \n",
      "19730     6.023256  4.166667   2.380952    3.487179   9.019608  8.619814   \n",
      "19731     6.023256  4.210526   2.500000    3.615385   9.004525  9.857257   \n",
      "19732     6.023256  4.254386   2.619048    3.743590   8.989442  5.839786   \n",
      "19733     6.023256  4.298246   2.738095    3.871795   8.974359  1.263715   \n",
      "19734     6.023256  4.342105   2.857143    4.000000   8.959276  6.823906   \n",
      "\n",
      "            rv2  \n",
      "0      2.654489  \n",
      "1      3.720829  \n",
      "2      5.728477  \n",
      "3      9.082611  \n",
      "4      2.016109  \n",
      "...         ...  \n",
      "19730  8.619814  \n",
      "19731  9.857257  \n",
      "19732  5.839786  \n",
      "19733  1.263715  \n",
      "19734  6.823906  \n",
      "\n",
      "[19735 rows x 26 columns]\n",
      "time: 31 ms (started: 2022-11-08 20:36:15 +05:30)\n"
     ]
    }
   ],
   "source": [
    "#splitting into test and train\n",
    "X = feature\n",
    "y = energy['class']\n",
    "X_train,X_test,y_train,y_test=train_test_split(X,y,test_size=0.3)\n",
    "print(X)"
   ]
  },
  {
   "cell_type": "code",
   "execution_count": 8,
   "id": "17992085",
   "metadata": {},
   "outputs": [
    {
     "name": "stdout",
     "output_type": "stream",
     "text": [
      "(8112, 26)\n",
      "time: 16.1 s (started: 2022-11-08 20:36:25 +05:30)\n"
     ]
    }
   ],
   "source": [
    "#applying SVM classifier\n",
    "clf = svm.SVC()\n",
    "clf.fit(X_train, y_train)\n",
    "clf.support_vectors_\n",
    "print(clf.support_vectors_.shape)"
   ]
  },
  {
   "cell_type": "code",
   "execution_count": 9,
   "id": "ef607982",
   "metadata": {},
   "outputs": [
    {
     "name": "stdout",
     "output_type": "stream",
     "text": [
      "0.7682061676560011\n",
      "0.7603445363958791\n",
      "time: 29 s (started: 2022-11-08 21:48:17 +05:30)\n"
     ]
    }
   ],
   "source": [
    "print(clf.score(X_train,y_train))\n",
    "print(clf.score(X_test,y_test))"
   ]
  },
  {
   "cell_type": "code",
   "execution_count": 10,
   "id": "9f73c1b6",
   "metadata": {},
   "outputs": [
    {
     "name": "stdout",
     "output_type": "stream",
     "text": [
      "['high' 'high' 'high' ... 'high' 'high' 'high']\n",
      "time: 8.58 s (started: 2022-11-08 21:48:52 +05:30)\n"
     ]
    }
   ],
   "source": [
    "print(clf.predict(X_test))"
   ]
  },
  {
   "cell_type": "code",
   "execution_count": 11,
   "id": "efc4b0e0",
   "metadata": {},
   "outputs": [
    {
     "name": "stdout",
     "output_type": "stream",
     "text": [
      "(8525, 26)\n",
      "time: 35.8 s (started: 2022-11-08 21:49:08 +05:30)\n"
     ]
    }
   ],
   "source": [
    "#kernel function = 'linear'\n",
    "#applying SVM classifier\n",
    "clf1 = svm.SVC(kernel='linear')\n",
    "clf1.fit(X_train, y_train)\n",
    "clf1.support_vectors_\n",
    "print(clf1.support_vectors_.shape)"
   ]
  },
  {
   "cell_type": "code",
   "execution_count": 12,
   "id": "d392419e",
   "metadata": {},
   "outputs": [
    {
     "name": "stdout",
     "output_type": "stream",
     "text": [
      "0.729549732155784\n",
      "0.7316331700726229\n",
      "time: 8.36 s (started: 2022-11-08 21:52:07 +05:30)\n"
     ]
    }
   ],
   "source": [
    "print(clf1.score(X_train,y_train))\n",
    "print(clf1.score(X_test,y_test))"
   ]
  },
  {
   "cell_type": "code",
   "execution_count": 13,
   "id": "e1683ca4",
   "metadata": {},
   "outputs": [
    {
     "name": "stdout",
     "output_type": "stream",
     "text": [
      "(7416, 26)\n",
      "time: 28.3 s (started: 2022-11-08 21:52:18 +05:30)\n"
     ]
    }
   ],
   "source": [
    "#kernel function = 'poly'\n",
    "#applying SVM classifier\n",
    "clf2 = svm.SVC(kernel='poly')\n",
    "clf2.fit(X_train, y_train)\n",
    "clf2.support_vectors_\n",
    "print(clf2.support_vectors_.shape)"
   ]
  },
  {
   "cell_type": "code",
   "execution_count": 14,
   "id": "f2453263",
   "metadata": {},
   "outputs": [
    {
     "name": "stdout",
     "output_type": "stream",
     "text": [
      "0.7871724337628493\n",
      "0.7750380003377808\n",
      "time: 8.11 s (started: 2022-11-08 21:52:49 +05:30)\n"
     ]
    }
   ],
   "source": [
    "print(clf2.score(X_train,y_train))\n",
    "print(clf2.score(X_test,y_test))"
   ]
  },
  {
   "cell_type": "code",
   "execution_count": 15,
   "id": "37b0c776",
   "metadata": {},
   "outputs": [
    {
     "name": "stdout",
     "output_type": "stream",
     "text": [
      "(10454, 26)\n",
      "time: 19.9 s (started: 2022-11-08 21:52:58 +05:30)\n"
     ]
    }
   ],
   "source": [
    "#kernel function = 'sigmoid'\n",
    "#applying SVM classifier\n",
    "clf3 = svm.SVC(kernel='sigmoid')\n",
    "clf3.fit(X_train, y_train)\n",
    "clf3.support_vectors_\n",
    "print(clf3.support_vectors_.shape)"
   ]
  },
  {
   "cell_type": "code",
   "execution_count": 16,
   "id": "1eac7d3e",
   "metadata": {},
   "outputs": [
    {
     "name": "stdout",
     "output_type": "stream",
     "text": [
      "0.5660923700593601\n",
      "0.5654450261780105\n",
      "time: 20.5 s (started: 2022-11-08 21:53:20 +05:30)\n"
     ]
    }
   ],
   "source": [
    "print(clf3.score(X_train,y_train))\n",
    "print(clf3.score(X_test,y_test))"
   ]
  },
  {
   "cell_type": "code",
   "execution_count": 17,
   "id": "aa1df5bf",
   "metadata": {},
   "outputs": [
    {
     "name": "stdout",
     "output_type": "stream",
     "text": [
      "0.8390762994063993\n",
      "0.7664245904408039\n",
      "time: 10.4 s (started: 2022-11-08 21:53:44 +05:30)\n"
     ]
    }
   ],
   "source": [
    "#K-NN classifier\n",
    "clf4 = KNeighborsClassifier(n_neighbors = 6)\n",
    "clf4.fit(X_train, y_train)\n",
    "print(clf4.score(X_train, y_train))\n",
    "print(clf4.score(X_test, y_test))"
   ]
  },
  {
   "cell_type": "code",
   "execution_count": 18,
   "id": "c62c2485",
   "metadata": {},
   "outputs": [
    {
     "name": "stdout",
     "output_type": "stream",
     "text": [
      "0.7262921673664399\n",
      "0.7277486910994765\n",
      "time: 1.42 s (started: 2022-11-08 21:54:07 +05:30)\n"
     ]
    },
    {
     "name": "stderr",
     "output_type": "stream",
     "text": [
      "C:\\Anaconda\\lib\\site-packages\\sklearn\\neural_network\\_multilayer_perceptron.py:549: ConvergenceWarning: lbfgs failed to converge (status=1):\n",
      "STOP: TOTAL NO. of ITERATIONS REACHED LIMIT.\n",
      "\n",
      "Increase the number of iterations (max_iter) or scale the data as shown in:\n",
      "    https://scikit-learn.org/stable/modules/preprocessing.html\n",
      "  self.n_iter_ = _check_optimize_result(\"lbfgs\", opt_res, self.max_iter)\n"
     ]
    }
   ],
   "source": [
    "#MLP classifier\n",
    "clf5 = MLPClassifier(solver='lbfgs', activation='logistic', hidden_layer_sizes=(2,), random_state=1)\n",
    "clf5.fit(X_train, y_train)\n",
    "print(clf5.score(X_train, y_train))\n",
    "print(clf5.score(X_test, y_test))"
   ]
  },
  {
   "cell_type": "code",
   "execution_count": null,
   "id": "d8e4fa45",
   "metadata": {},
   "outputs": [],
   "source": []
  }
 ],
 "metadata": {
  "kernelspec": {
   "display_name": "Python 3 (ipykernel)",
   "language": "python",
   "name": "python3"
  },
  "language_info": {
   "codemirror_mode": {
    "name": "ipython",
    "version": 3
   },
   "file_extension": ".py",
   "mimetype": "text/x-python",
   "name": "python",
   "nbconvert_exporter": "python",
   "pygments_lexer": "ipython3",
   "version": "3.9.12"
  }
 },
 "nbformat": 4,
 "nbformat_minor": 5
}
