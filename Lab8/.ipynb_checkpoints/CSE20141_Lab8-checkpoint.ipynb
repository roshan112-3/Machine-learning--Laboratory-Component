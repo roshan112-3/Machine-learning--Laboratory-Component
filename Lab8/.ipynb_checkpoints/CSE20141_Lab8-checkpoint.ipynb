{
 "cells": [
  {
   "cell_type": "code",
   "execution_count": 1,
   "id": "1d438f44",
   "metadata": {},
   "outputs": [
    {
     "name": "stdout",
     "output_type": "stream",
     "text": [
      "Defaulting to user installation because normal site-packages is not writeable\n",
      "Requirement already satisfied: ipython-autotime in c:\\users\\admin\\appdata\\roaming\\python\\python39\\site-packages (0.3.1)\n",
      "Requirement already satisfied: ipython in c:\\anaconda\\lib\\site-packages (from ipython-autotime) (8.2.0)\n",
      "Requirement already satisfied: decorator in c:\\anaconda\\lib\\site-packages (from ipython->ipython-autotime) (5.1.1)\n",
      "Requirement already satisfied: backcall in c:\\anaconda\\lib\\site-packages (from ipython->ipython-autotime) (0.2.0)\n",
      "Requirement already satisfied: prompt-toolkit!=3.0.0,!=3.0.1,<3.1.0,>=2.0.0 in c:\\anaconda\\lib\\site-packages (from ipython->ipython-autotime) (3.0.20)\n",
      "Requirement already satisfied: jedi>=0.16 in c:\\anaconda\\lib\\site-packages (from ipython->ipython-autotime) (0.18.1)\n",
      "Requirement already satisfied: setuptools>=18.5 in c:\\anaconda\\lib\\site-packages (from ipython->ipython-autotime) (61.2.0)\n",
      "Requirement already satisfied: pygments>=2.4.0 in c:\\anaconda\\lib\\site-packages (from ipython->ipython-autotime) (2.11.2)\n",
      "Requirement already satisfied: matplotlib-inline in c:\\anaconda\\lib\\site-packages (from ipython->ipython-autotime) (0.1.2)\n",
      "Requirement already satisfied: pickleshare in c:\\anaconda\\lib\\site-packages (from ipython->ipython-autotime) (0.7.5)\n",
      "Requirement already satisfied: traitlets>=5 in c:\\anaconda\\lib\\site-packages (from ipython->ipython-autotime) (5.1.1)\n",
      "Requirement already satisfied: colorama in c:\\anaconda\\lib\\site-packages (from ipython->ipython-autotime) (0.4.4)\n",
      "Requirement already satisfied: stack-data in c:\\anaconda\\lib\\site-packages (from ipython->ipython-autotime) (0.2.0)\n",
      "Requirement already satisfied: parso<0.9.0,>=0.8.0 in c:\\anaconda\\lib\\site-packages (from jedi>=0.16->ipython->ipython-autotime) (0.8.3)\n",
      "Requirement already satisfied: wcwidth in c:\\anaconda\\lib\\site-packages (from prompt-toolkit!=3.0.0,!=3.0.1,<3.1.0,>=2.0.0->ipython->ipython-autotime) (0.2.5)\n",
      "Requirement already satisfied: pure-eval in c:\\anaconda\\lib\\site-packages (from stack-data->ipython->ipython-autotime) (0.2.2)\n",
      "Requirement already satisfied: asttokens in c:\\anaconda\\lib\\site-packages (from stack-data->ipython->ipython-autotime) (2.0.5)\n",
      "Requirement already satisfied: executing in c:\\anaconda\\lib\\site-packages (from stack-data->ipython->ipython-autotime) (0.8.3)\n",
      "Requirement already satisfied: six in c:\\anaconda\\lib\\site-packages (from asttokens->stack-data->ipython->ipython-autotime) (1.16.0)\n",
      "time: 0 ns (started: 2022-11-21 20:50:03 +05:30)\n"
     ]
    }
   ],
   "source": [
    "!pip install ipython-autotime\n",
    "%load_ext autotime"
   ]
  },
  {
   "cell_type": "code",
   "execution_count": 2,
   "id": "c67d1185",
   "metadata": {},
   "outputs": [
    {
     "name": "stdout",
     "output_type": "stream",
     "text": [
      "time: 4 s (started: 2022-11-21 20:50:12 +05:30)\n"
     ]
    }
   ],
   "source": [
    "#import statements\n",
    "import pandas as pd\n",
    "import numpy as np\n",
    "from numpy.linalg import norm\n",
    "import matplotlib.pyplot as plt\n",
    "from sklearn import svm\n",
    "from sklearn.neighbors import KNeighborsClassifier\n",
    "from sklearn.neural_network import MLPClassifier\n",
    "from sklearn.tree import DecisionTreeClassifier\n",
    "from sklearn.naive_bayes import GaussianNB\n",
    "from sklearn.linear_model import LogisticRegression\n",
    "from sklearn.model_selection import train_test_split\n",
    "from sklearn.preprocessing import MinMaxScaler"
   ]
  },
  {
   "cell_type": "code",
   "execution_count": 3,
   "id": "f3dde717",
   "metadata": {},
   "outputs": [
    {
     "name": "stdout",
     "output_type": "stream",
     "text": [
      "   age  income student credit_rating buys_computer\n",
      "0    A    high      no          fair            no\n",
      "1    A    high      no     excellent            no\n",
      "2    B    high      no          fair           yes\n",
      "3    C  medium      no          fair           yes\n",
      "4    C     low     yes          fair           yes\n",
      "5    C     low     yes     excellent            no\n",
      "6    B     low     yes     excellent           yes\n",
      "7    A  medium      no          fair            no\n",
      "8    A     low     yes          fair           yes\n",
      "9    C  medium     yes          fair           yes\n",
      "10   A  medium     yes     excellent           yes\n",
      "11   B  medium      no     excellent           yes\n",
      "12   B    high     yes          fair           yes\n",
      "13   C  medium      no     excellent            no\n",
      "time: 31 ms (started: 2022-11-21 20:50:25 +05:30)\n"
     ]
    }
   ],
   "source": [
    "#creating dataset\n",
    "computer=[['A','high','no','fair','no'],['A','high','no','excellent','no'],['B','high','no','fair','yes'],['C','medium','no','fair','yes'],['C','low','yes','fair','yes'],\n",
    "            ['C','low','yes','excellent','no'],['B','low','yes','excellent','yes'],['A','medium','no','fair','no'],['A','low','yes','fair','yes'],['C','medium','yes','fair','yes'],\n",
    "            ['A','medium','yes','excellent','yes'],['B','medium','no','excellent','yes'],['B','high','yes','fair','yes'],['C','medium','no','excellent','no']]\n",
    "computer = pd.DataFrame(computer,columns=['age','income','student','credit_rating','buys_computer'])\n",
    "print(computer)"
   ]
  },
  {
   "cell_type": "code",
   "execution_count": 4,
   "id": "49b6b27c",
   "metadata": {},
   "outputs": [
    {
     "name": "stdout",
     "output_type": "stream",
     "text": [
      "[0.6428571428571429, 0.35714285714285715]\n",
      "time: 15 ms (started: 2022-11-21 20:50:37 +05:30)\n"
     ]
    }
   ],
   "source": [
    "#prior probability\n",
    "prob = []\n",
    "count = computer['buys_computer'].count()\n",
    "class_count = list(computer['buys_computer'].value_counts())\n",
    "for i in class_count:\n",
    "  prob.append(i/count)\n",
    "print(prob)"
   ]
  },
  {
   "cell_type": "code",
   "execution_count": 5,
   "id": "273c65d4",
   "metadata": {},
   "outputs": [
    {
     "name": "stdout",
     "output_type": "stream",
     "text": [
      "Class Conditional Probabilities for Class YES\n",
      "B    0.444444\n",
      "C    0.333333\n",
      "A    0.222222\n",
      "Name: age, dtype: float64\n",
      "medium    0.444444\n",
      "low       0.333333\n",
      "high      0.222222\n",
      "Name: income, dtype: float64\n",
      "yes    0.666667\n",
      "no     0.333333\n",
      "Name: student, dtype: float64\n",
      "fair         0.666667\n",
      "excellent    0.333333\n",
      "Name: credit_rating, dtype: float64\n",
      "\n",
      "Class Conditional Probabilities for Class NO\n",
      "A    0.6\n",
      "C    0.4\n",
      "Name: age, dtype: float64\n",
      "high      0.4\n",
      "medium    0.4\n",
      "low       0.2\n",
      "Name: income, dtype: float64\n",
      "no     0.8\n",
      "yes    0.2\n",
      "Name: student, dtype: float64\n",
      "excellent    0.6\n",
      "fair         0.4\n",
      "Name: credit_rating, dtype: float64\n",
      "time: 32 ms (started: 2022-11-21 20:50:54 +05:30)\n"
     ]
    }
   ],
   "source": [
    "#class conditional densities\n",
    "class_conditional_yes = []\n",
    "class_conditional_no = []\n",
    "yes_dataset = computer[computer['buys_computer']=='yes']\n",
    "no_dataset = computer[computer['buys_computer']=='no']\n",
    "for i in yes_dataset.columns:\n",
    "  class_conditional_yes.append(yes_dataset[i].value_counts()/yes_dataset[i].count())\n",
    "print('Class Conditional Probabilities for Class YES')\n",
    "for i in range(len(class_conditional_yes)-1):\n",
    "  print(class_conditional_yes[i])\n",
    "\n",
    "print('')\n",
    "\n",
    "for i in no_dataset.columns:\n",
    "  class_conditional_no.append(no_dataset[i].value_counts()/no_dataset[i].count())\n",
    "print('Class Conditional Probabilities for Class NO')\n",
    "for i in range(len(class_conditional_no)-1):\n",
    "  print(class_conditional_no[i])"
   ]
  },
  {
   "cell_type": "code",
   "execution_count": 6,
   "id": "4ba77191",
   "metadata": {},
   "outputs": [
    {
     "name": "stdout",
     "output_type": "stream",
     "text": [
      "    age  income  student  credit_rating  buys_computer\n",
      "0    -1       1        0             -1              0\n",
      "1    -1       1        0              1              0\n",
      "2     0       1        0             -1              1\n",
      "3     1       1        0             -1              1\n",
      "4     1      -1        1             -1              1\n",
      "5     1      -1        1              1              0\n",
      "6     0      -1        1              1              1\n",
      "7    -1       0        0             -1              0\n",
      "8    -1      -1        1             -1              1\n",
      "9     1       0        1             -1              1\n",
      "10   -1       0        1              1              1\n",
      "11    0       0        0              1              1\n",
      "12    0       1        1             -1              1\n",
      "13    1       0        0              1              0\n",
      "time: 16 ms (started: 2022-11-21 20:51:08 +05:30)\n"
     ]
    }
   ],
   "source": [
    "computer1 = [[-1,1,0,-1,0],[-1,1,0,1,0],[0,1,0,-1,1],[1,1,0,-1,1],[1,-1,1,-1,1],\n",
    "            [1,-1,1,1,0],[0,-1,1,1,1],[-1,0,0,-1,0],[-1,-1,1,-1,1],[1,0,1,-1,1],\n",
    "            [-1,0,1,1,1],[0,0,0,1,1],[0,1,1,-1,1],[1,0,0,1,0]]\n",
    "computer1 = pd.DataFrame(computer1,columns=['age','income','student','credit_rating','buys_computer'])\n",
    "print(computer1)"
   ]
  },
  {
   "cell_type": "code",
   "execution_count": 7,
   "id": "c982d943",
   "metadata": {},
   "outputs": [
    {
     "name": "stdout",
     "output_type": "stream",
     "text": [
      "Cosine between\n",
      "[-1, -1, 0, 1, 1, 1, 0, -1, -1, 1, -1, 0, 0, 1]\n",
      "[1, 1, 1, 1, -1, -1, -1, 0, -1, 0, 0, 0, 1, 0]\n",
      "Cosine value: \n",
      "-0.21081851067789195\n",
      "\n",
      "Cosine between\n",
      "[-1, -1, 0, 1, 1, 1, 0, -1, -1, 1, -1, 0, 0, 1]\n",
      "[0, 0, 0, 0, 1, 1, 1, 0, 1, 1, 1, 0, 1, 0]\n",
      "Cosine value: \n",
      "0.11952286093343936\n",
      "\n",
      "Cosine between\n",
      "[-1, -1, 0, 1, 1, 1, 0, -1, -1, 1, -1, 0, 0, 1]\n",
      "[-1, 1, -1, -1, -1, 1, 1, -1, -1, -1, 1, 1, -1, 1]\n",
      "Cosine value: \n",
      "0.0\n",
      "\n",
      "Cosine between\n",
      "[1, 1, 1, 1, -1, -1, -1, 0, -1, 0, 0, 0, 1, 0]\n",
      "[0, 0, 0, 0, 1, 1, 1, 0, 1, 1, 1, 0, 1, 0]\n",
      "Cosine value: \n",
      "-0.3779644730092272\n",
      "\n",
      "Cosine between\n",
      "[1, 1, 1, 1, -1, -1, -1, 0, -1, 0, 0, 0, 1, 0]\n",
      "[-1, 1, -1, -1, -1, 1, 1, -1, -1, -1, 1, 1, -1, 1]\n",
      "Cosine value: \n",
      "-0.2672612419124244\n",
      "\n",
      "Cosine between\n",
      "[0, 0, 0, 0, 1, 1, 1, 0, 1, 1, 1, 0, 1, 0]\n",
      "[-1, 1, -1, -1, -1, 1, 1, -1, -1, -1, 1, 1, -1, 1]\n",
      "Cosine value: \n",
      "-0.10101525445522107\n",
      "\n",
      "time: 16 ms (started: 2022-11-21 20:51:18 +05:30)\n"
     ]
    }
   ],
   "source": [
    "#independence between attributes\n",
    "def cosine_similarity(a,b):\n",
    "    return np.dot(a,b) / ((np.dot(a,a) **.5) * (np.dot(b,b) ** .5))\n",
    "\n",
    "matrix = []\n",
    "cosine = []\n",
    "for i in computer1.columns:\n",
    "  matrix.append(list(computer1[i]))\n",
    "for i in range(len(matrix)-1):\n",
    "  for j in range(i+1,len(matrix)-1):\n",
    "    print('Cosine between')\n",
    "    print(matrix[i])\n",
    "    print(matrix[j])\n",
    "    value = cosine_similarity(list(matrix[i]),(list(matrix[j])))\n",
    "    print('Cosine value: ')\n",
    "    print(value)\n",
    "    print('')\n",
    "    if(value == 1 or value == -1):\n",
    "      print(\"Vectors are dependent!\")"
   ]
  },
  {
   "cell_type": "code",
   "execution_count": 8,
   "id": "c08a275a",
   "metadata": {},
   "outputs": [
    {
     "name": "stdout",
     "output_type": "stream",
     "text": [
      "time: 0 ns (started: 2022-11-21 20:51:29 +05:30)\n"
     ]
    }
   ],
   "source": [
    "#splitting dataset into train and test\n",
    "X = computer1.iloc[:,:-1]\n",
    "y = computer1.iloc[:,-1]\n",
    "X_train,X_test,y_train,y_test = train_test_split(X, y, test_size=0.2)"
   ]
  },
  {
   "cell_type": "code",
   "execution_count": 9,
   "id": "e8f10a5e",
   "metadata": {},
   "outputs": [
    {
     "name": "stdout",
     "output_type": "stream",
     "text": [
      "0.3333333333333333\n",
      "time: 16 ms (started: 2022-11-21 20:52:03 +05:30)\n"
     ]
    }
   ],
   "source": [
    "#naive-bayes classifier\n",
    "clf = GaussianNB()\n",
    "clf.fit(X_train,y_train)\n",
    "print(clf.score(X_test, y_test))"
   ]
  },
  {
   "cell_type": "code",
   "execution_count": 11,
   "id": "5dda34d5",
   "metadata": {},
   "outputs": [
    {
     "data": {
      "text/html": [
       "<div>\n",
       "<style scoped>\n",
       "    .dataframe tbody tr th:only-of-type {\n",
       "        vertical-align: middle;\n",
       "    }\n",
       "\n",
       "    .dataframe tbody tr th {\n",
       "        vertical-align: top;\n",
       "    }\n",
       "\n",
       "    .dataframe thead th {\n",
       "        text-align: right;\n",
       "    }\n",
       "</style>\n",
       "<table border=\"1\" class=\"dataframe\">\n",
       "  <thead>\n",
       "    <tr style=\"text-align: right;\">\n",
       "      <th></th>\n",
       "      <th>date</th>\n",
       "      <th>Appliances</th>\n",
       "      <th>lights</th>\n",
       "      <th>T1</th>\n",
       "      <th>RH_1</th>\n",
       "      <th>T2</th>\n",
       "      <th>RH_2</th>\n",
       "      <th>T3</th>\n",
       "      <th>RH_3</th>\n",
       "      <th>T4</th>\n",
       "      <th>...</th>\n",
       "      <th>T9</th>\n",
       "      <th>RH_9</th>\n",
       "      <th>T_out</th>\n",
       "      <th>Press_mm_hg</th>\n",
       "      <th>RH_out</th>\n",
       "      <th>Windspeed</th>\n",
       "      <th>Visibility</th>\n",
       "      <th>Tdewpoint</th>\n",
       "      <th>rv1</th>\n",
       "      <th>rv2</th>\n",
       "    </tr>\n",
       "  </thead>\n",
       "  <tbody>\n",
       "    <tr>\n",
       "      <th>0</th>\n",
       "      <td>2016-01-11 17:00:00</td>\n",
       "      <td>60</td>\n",
       "      <td>30</td>\n",
       "      <td>19.890000</td>\n",
       "      <td>47.596667</td>\n",
       "      <td>19.200000</td>\n",
       "      <td>44.790000</td>\n",
       "      <td>19.790000</td>\n",
       "      <td>44.730000</td>\n",
       "      <td>19.000000</td>\n",
       "      <td>...</td>\n",
       "      <td>17.033333</td>\n",
       "      <td>45.5300</td>\n",
       "      <td>6.600000</td>\n",
       "      <td>733.5</td>\n",
       "      <td>92.000000</td>\n",
       "      <td>7.000000</td>\n",
       "      <td>63.000000</td>\n",
       "      <td>5.300000</td>\n",
       "      <td>13.275433</td>\n",
       "      <td>13.275433</td>\n",
       "    </tr>\n",
       "    <tr>\n",
       "      <th>1</th>\n",
       "      <td>2016-01-11 17:10:00</td>\n",
       "      <td>60</td>\n",
       "      <td>30</td>\n",
       "      <td>19.890000</td>\n",
       "      <td>46.693333</td>\n",
       "      <td>19.200000</td>\n",
       "      <td>44.722500</td>\n",
       "      <td>19.790000</td>\n",
       "      <td>44.790000</td>\n",
       "      <td>19.000000</td>\n",
       "      <td>...</td>\n",
       "      <td>17.066667</td>\n",
       "      <td>45.5600</td>\n",
       "      <td>6.483333</td>\n",
       "      <td>733.6</td>\n",
       "      <td>92.000000</td>\n",
       "      <td>6.666667</td>\n",
       "      <td>59.166667</td>\n",
       "      <td>5.200000</td>\n",
       "      <td>18.606195</td>\n",
       "      <td>18.606195</td>\n",
       "    </tr>\n",
       "    <tr>\n",
       "      <th>2</th>\n",
       "      <td>2016-01-11 17:20:00</td>\n",
       "      <td>50</td>\n",
       "      <td>30</td>\n",
       "      <td>19.890000</td>\n",
       "      <td>46.300000</td>\n",
       "      <td>19.200000</td>\n",
       "      <td>44.626667</td>\n",
       "      <td>19.790000</td>\n",
       "      <td>44.933333</td>\n",
       "      <td>18.926667</td>\n",
       "      <td>...</td>\n",
       "      <td>17.000000</td>\n",
       "      <td>45.5000</td>\n",
       "      <td>6.366667</td>\n",
       "      <td>733.7</td>\n",
       "      <td>92.000000</td>\n",
       "      <td>6.333333</td>\n",
       "      <td>55.333333</td>\n",
       "      <td>5.100000</td>\n",
       "      <td>28.642668</td>\n",
       "      <td>28.642668</td>\n",
       "    </tr>\n",
       "    <tr>\n",
       "      <th>3</th>\n",
       "      <td>2016-01-11 17:30:00</td>\n",
       "      <td>50</td>\n",
       "      <td>40</td>\n",
       "      <td>19.890000</td>\n",
       "      <td>46.066667</td>\n",
       "      <td>19.200000</td>\n",
       "      <td>44.590000</td>\n",
       "      <td>19.790000</td>\n",
       "      <td>45.000000</td>\n",
       "      <td>18.890000</td>\n",
       "      <td>...</td>\n",
       "      <td>17.000000</td>\n",
       "      <td>45.4000</td>\n",
       "      <td>6.250000</td>\n",
       "      <td>733.8</td>\n",
       "      <td>92.000000</td>\n",
       "      <td>6.000000</td>\n",
       "      <td>51.500000</td>\n",
       "      <td>5.000000</td>\n",
       "      <td>45.410389</td>\n",
       "      <td>45.410389</td>\n",
       "    </tr>\n",
       "    <tr>\n",
       "      <th>4</th>\n",
       "      <td>2016-01-11 17:40:00</td>\n",
       "      <td>60</td>\n",
       "      <td>40</td>\n",
       "      <td>19.890000</td>\n",
       "      <td>46.333333</td>\n",
       "      <td>19.200000</td>\n",
       "      <td>44.530000</td>\n",
       "      <td>19.790000</td>\n",
       "      <td>45.000000</td>\n",
       "      <td>18.890000</td>\n",
       "      <td>...</td>\n",
       "      <td>17.000000</td>\n",
       "      <td>45.4000</td>\n",
       "      <td>6.133333</td>\n",
       "      <td>733.9</td>\n",
       "      <td>92.000000</td>\n",
       "      <td>5.666667</td>\n",
       "      <td>47.666667</td>\n",
       "      <td>4.900000</td>\n",
       "      <td>10.084097</td>\n",
       "      <td>10.084097</td>\n",
       "    </tr>\n",
       "    <tr>\n",
       "      <th>...</th>\n",
       "      <td>...</td>\n",
       "      <td>...</td>\n",
       "      <td>...</td>\n",
       "      <td>...</td>\n",
       "      <td>...</td>\n",
       "      <td>...</td>\n",
       "      <td>...</td>\n",
       "      <td>...</td>\n",
       "      <td>...</td>\n",
       "      <td>...</td>\n",
       "      <td>...</td>\n",
       "      <td>...</td>\n",
       "      <td>...</td>\n",
       "      <td>...</td>\n",
       "      <td>...</td>\n",
       "      <td>...</td>\n",
       "      <td>...</td>\n",
       "      <td>...</td>\n",
       "      <td>...</td>\n",
       "      <td>...</td>\n",
       "      <td>...</td>\n",
       "    </tr>\n",
       "    <tr>\n",
       "      <th>19730</th>\n",
       "      <td>2016-05-27 17:20:00</td>\n",
       "      <td>100</td>\n",
       "      <td>0</td>\n",
       "      <td>25.566667</td>\n",
       "      <td>46.560000</td>\n",
       "      <td>25.890000</td>\n",
       "      <td>42.025714</td>\n",
       "      <td>27.200000</td>\n",
       "      <td>41.163333</td>\n",
       "      <td>24.700000</td>\n",
       "      <td>...</td>\n",
       "      <td>23.200000</td>\n",
       "      <td>46.7900</td>\n",
       "      <td>22.733333</td>\n",
       "      <td>755.2</td>\n",
       "      <td>55.666667</td>\n",
       "      <td>3.333333</td>\n",
       "      <td>23.666667</td>\n",
       "      <td>13.333333</td>\n",
       "      <td>43.096812</td>\n",
       "      <td>43.096812</td>\n",
       "    </tr>\n",
       "    <tr>\n",
       "      <th>19731</th>\n",
       "      <td>2016-05-27 17:30:00</td>\n",
       "      <td>90</td>\n",
       "      <td>0</td>\n",
       "      <td>25.500000</td>\n",
       "      <td>46.500000</td>\n",
       "      <td>25.754000</td>\n",
       "      <td>42.080000</td>\n",
       "      <td>27.133333</td>\n",
       "      <td>41.223333</td>\n",
       "      <td>24.700000</td>\n",
       "      <td>...</td>\n",
       "      <td>23.200000</td>\n",
       "      <td>46.7900</td>\n",
       "      <td>22.600000</td>\n",
       "      <td>755.2</td>\n",
       "      <td>56.000000</td>\n",
       "      <td>3.500000</td>\n",
       "      <td>24.500000</td>\n",
       "      <td>13.300000</td>\n",
       "      <td>49.282940</td>\n",
       "      <td>49.282940</td>\n",
       "    </tr>\n",
       "    <tr>\n",
       "      <th>19732</th>\n",
       "      <td>2016-05-27 17:40:00</td>\n",
       "      <td>270</td>\n",
       "      <td>10</td>\n",
       "      <td>25.500000</td>\n",
       "      <td>46.596667</td>\n",
       "      <td>25.628571</td>\n",
       "      <td>42.768571</td>\n",
       "      <td>27.050000</td>\n",
       "      <td>41.690000</td>\n",
       "      <td>24.700000</td>\n",
       "      <td>...</td>\n",
       "      <td>23.200000</td>\n",
       "      <td>46.7900</td>\n",
       "      <td>22.466667</td>\n",
       "      <td>755.2</td>\n",
       "      <td>56.333333</td>\n",
       "      <td>3.666667</td>\n",
       "      <td>25.333333</td>\n",
       "      <td>13.266667</td>\n",
       "      <td>29.199117</td>\n",
       "      <td>29.199117</td>\n",
       "    </tr>\n",
       "    <tr>\n",
       "      <th>19733</th>\n",
       "      <td>2016-05-27 17:50:00</td>\n",
       "      <td>420</td>\n",
       "      <td>10</td>\n",
       "      <td>25.500000</td>\n",
       "      <td>46.990000</td>\n",
       "      <td>25.414000</td>\n",
       "      <td>43.036000</td>\n",
       "      <td>26.890000</td>\n",
       "      <td>41.290000</td>\n",
       "      <td>24.700000</td>\n",
       "      <td>...</td>\n",
       "      <td>23.200000</td>\n",
       "      <td>46.8175</td>\n",
       "      <td>22.333333</td>\n",
       "      <td>755.2</td>\n",
       "      <td>56.666667</td>\n",
       "      <td>3.833333</td>\n",
       "      <td>26.166667</td>\n",
       "      <td>13.233333</td>\n",
       "      <td>6.322784</td>\n",
       "      <td>6.322784</td>\n",
       "    </tr>\n",
       "    <tr>\n",
       "      <th>19734</th>\n",
       "      <td>2016-05-27 18:00:00</td>\n",
       "      <td>430</td>\n",
       "      <td>10</td>\n",
       "      <td>25.500000</td>\n",
       "      <td>46.600000</td>\n",
       "      <td>25.264286</td>\n",
       "      <td>42.971429</td>\n",
       "      <td>26.823333</td>\n",
       "      <td>41.156667</td>\n",
       "      <td>24.700000</td>\n",
       "      <td>...</td>\n",
       "      <td>23.200000</td>\n",
       "      <td>46.8450</td>\n",
       "      <td>22.200000</td>\n",
       "      <td>755.2</td>\n",
       "      <td>57.000000</td>\n",
       "      <td>4.000000</td>\n",
       "      <td>27.000000</td>\n",
       "      <td>13.200000</td>\n",
       "      <td>34.118851</td>\n",
       "      <td>34.118851</td>\n",
       "    </tr>\n",
       "  </tbody>\n",
       "</table>\n",
       "<p>19735 rows × 29 columns</p>\n",
       "</div>"
      ],
      "text/plain": [
       "                      date  Appliances  lights         T1       RH_1  \\\n",
       "0      2016-01-11 17:00:00          60      30  19.890000  47.596667   \n",
       "1      2016-01-11 17:10:00          60      30  19.890000  46.693333   \n",
       "2      2016-01-11 17:20:00          50      30  19.890000  46.300000   \n",
       "3      2016-01-11 17:30:00          50      40  19.890000  46.066667   \n",
       "4      2016-01-11 17:40:00          60      40  19.890000  46.333333   \n",
       "...                    ...         ...     ...        ...        ...   \n",
       "19730  2016-05-27 17:20:00         100       0  25.566667  46.560000   \n",
       "19731  2016-05-27 17:30:00          90       0  25.500000  46.500000   \n",
       "19732  2016-05-27 17:40:00         270      10  25.500000  46.596667   \n",
       "19733  2016-05-27 17:50:00         420      10  25.500000  46.990000   \n",
       "19734  2016-05-27 18:00:00         430      10  25.500000  46.600000   \n",
       "\n",
       "              T2       RH_2         T3       RH_3         T4  ...         T9  \\\n",
       "0      19.200000  44.790000  19.790000  44.730000  19.000000  ...  17.033333   \n",
       "1      19.200000  44.722500  19.790000  44.790000  19.000000  ...  17.066667   \n",
       "2      19.200000  44.626667  19.790000  44.933333  18.926667  ...  17.000000   \n",
       "3      19.200000  44.590000  19.790000  45.000000  18.890000  ...  17.000000   \n",
       "4      19.200000  44.530000  19.790000  45.000000  18.890000  ...  17.000000   \n",
       "...          ...        ...        ...        ...        ...  ...        ...   \n",
       "19730  25.890000  42.025714  27.200000  41.163333  24.700000  ...  23.200000   \n",
       "19731  25.754000  42.080000  27.133333  41.223333  24.700000  ...  23.200000   \n",
       "19732  25.628571  42.768571  27.050000  41.690000  24.700000  ...  23.200000   \n",
       "19733  25.414000  43.036000  26.890000  41.290000  24.700000  ...  23.200000   \n",
       "19734  25.264286  42.971429  26.823333  41.156667  24.700000  ...  23.200000   \n",
       "\n",
       "          RH_9      T_out  Press_mm_hg     RH_out  Windspeed  Visibility  \\\n",
       "0      45.5300   6.600000        733.5  92.000000   7.000000   63.000000   \n",
       "1      45.5600   6.483333        733.6  92.000000   6.666667   59.166667   \n",
       "2      45.5000   6.366667        733.7  92.000000   6.333333   55.333333   \n",
       "3      45.4000   6.250000        733.8  92.000000   6.000000   51.500000   \n",
       "4      45.4000   6.133333        733.9  92.000000   5.666667   47.666667   \n",
       "...        ...        ...          ...        ...        ...         ...   \n",
       "19730  46.7900  22.733333        755.2  55.666667   3.333333   23.666667   \n",
       "19731  46.7900  22.600000        755.2  56.000000   3.500000   24.500000   \n",
       "19732  46.7900  22.466667        755.2  56.333333   3.666667   25.333333   \n",
       "19733  46.8175  22.333333        755.2  56.666667   3.833333   26.166667   \n",
       "19734  46.8450  22.200000        755.2  57.000000   4.000000   27.000000   \n",
       "\n",
       "       Tdewpoint        rv1        rv2  \n",
       "0       5.300000  13.275433  13.275433  \n",
       "1       5.200000  18.606195  18.606195  \n",
       "2       5.100000  28.642668  28.642668  \n",
       "3       5.000000  45.410389  45.410389  \n",
       "4       4.900000  10.084097  10.084097  \n",
       "...          ...        ...        ...  \n",
       "19730  13.333333  43.096812  43.096812  \n",
       "19731  13.300000  49.282940  49.282940  \n",
       "19732  13.266667  29.199117  29.199117  \n",
       "19733  13.233333   6.322784   6.322784  \n",
       "19734  13.200000  34.118851  34.118851  \n",
       "\n",
       "[19735 rows x 29 columns]"
      ]
     },
     "execution_count": 11,
     "metadata": {},
     "output_type": "execute_result"
    },
    {
     "name": "stdout",
     "output_type": "stream",
     "text": [
      "time: 141 ms (started: 2022-11-21 20:53:01 +05:30)\n"
     ]
    }
   ],
   "source": [
    "#reading dataset\n",
    "energy = pd.read_csv(r\"C:\\Users\\Admin\\OneDrive\\Desktop\\KAG_energydata_complete.csv\")\n",
    "energy"
   ]
  },
  {
   "cell_type": "code",
   "execution_count": 14,
   "id": "35770f48",
   "metadata": {},
   "outputs": [
    {
     "name": "stdout",
     "output_type": "stream",
     "text": [
      "                      date  Appliances  lights         T1       RH_1  \\\n",
      "0      2016-01-11 17:00:00          60      30  19.890000  47.596667   \n",
      "1      2016-01-11 17:10:00          60      30  19.890000  46.693333   \n",
      "2      2016-01-11 17:20:00          50      30  19.890000  46.300000   \n",
      "3      2016-01-11 17:30:00          50      40  19.890000  46.066667   \n",
      "4      2016-01-11 17:40:00          60      40  19.890000  46.333333   \n",
      "...                    ...         ...     ...        ...        ...   \n",
      "19730  2016-05-27 17:20:00         100       0  25.566667  46.560000   \n",
      "19731  2016-05-27 17:30:00          90       0  25.500000  46.500000   \n",
      "19732  2016-05-27 17:40:00         270      10  25.500000  46.596667   \n",
      "19733  2016-05-27 17:50:00         420      10  25.500000  46.990000   \n",
      "19734  2016-05-27 18:00:00         430      10  25.500000  46.600000   \n",
      "\n",
      "              T2       RH_2         T3       RH_3         T4  ...     RH_9  \\\n",
      "0      19.200000  44.790000  19.790000  44.730000  19.000000  ...  45.5300   \n",
      "1      19.200000  44.722500  19.790000  44.790000  19.000000  ...  45.5600   \n",
      "2      19.200000  44.626667  19.790000  44.933333  18.926667  ...  45.5000   \n",
      "3      19.200000  44.590000  19.790000  45.000000  18.890000  ...  45.4000   \n",
      "4      19.200000  44.530000  19.790000  45.000000  18.890000  ...  45.4000   \n",
      "...          ...        ...        ...        ...        ...  ...      ...   \n",
      "19730  25.890000  42.025714  27.200000  41.163333  24.700000  ...  46.7900   \n",
      "19731  25.754000  42.080000  27.133333  41.223333  24.700000  ...  46.7900   \n",
      "19732  25.628571  42.768571  27.050000  41.690000  24.700000  ...  46.7900   \n",
      "19733  25.414000  43.036000  26.890000  41.290000  24.700000  ...  46.8175   \n",
      "19734  25.264286  42.971429  26.823333  41.156667  24.700000  ...  46.8450   \n",
      "\n",
      "           T_out  Press_mm_hg     RH_out  Windspeed  Visibility  Tdewpoint  \\\n",
      "0       6.600000        733.5  92.000000   7.000000   63.000000   5.300000   \n",
      "1       6.483333        733.6  92.000000   6.666667   59.166667   5.200000   \n",
      "2       6.366667        733.7  92.000000   6.333333   55.333333   5.100000   \n",
      "3       6.250000        733.8  92.000000   6.000000   51.500000   5.000000   \n",
      "4       6.133333        733.9  92.000000   5.666667   47.666667   4.900000   \n",
      "...          ...          ...        ...        ...         ...        ...   \n",
      "19730  22.733333        755.2  55.666667   3.333333   23.666667  13.333333   \n",
      "19731  22.600000        755.2  56.000000   3.500000   24.500000  13.300000   \n",
      "19732  22.466667        755.2  56.333333   3.666667   25.333333  13.266667   \n",
      "19733  22.333333        755.2  56.666667   3.833333   26.166667  13.233333   \n",
      "19734  22.200000        755.2  57.000000   4.000000   27.000000  13.200000   \n",
      "\n",
      "             rv1        rv2  class  \n",
      "0      13.275433  13.275433   high  \n",
      "1      18.606195  18.606195   high  \n",
      "2      28.642668  28.642668    low  \n",
      "3      45.410389  45.410389    low  \n",
      "4      10.084097  10.084097   high  \n",
      "...          ...        ...    ...  \n",
      "19730  43.096812  43.096812   high  \n",
      "19731  49.282940  49.282940   high  \n",
      "19732  29.199117  29.199117   high  \n",
      "19733   6.322784   6.322784   high  \n",
      "19734  34.118851  34.118851   high  \n",
      "\n",
      "[19735 rows x 30 columns]\n",
      "time: 31 ms (started: 2022-11-21 20:53:42 +05:30)\n"
     ]
    }
   ],
   "source": [
    "#classification based on appliance usage from LAB 3\n",
    "def explore(row: float):\n",
    "  if row >= 60:\n",
    "    return 'high'\n",
    "  else:\n",
    "    return 'low'\n",
    "\n",
    "appliance = energy['Appliances'].tolist()\n",
    "classified_data = []\n",
    "for i in appliance:\n",
    "  classified_data.append(explore(i))\n",
    "\n",
    "energy['class']=classified_data\n",
    "print(energy)"
   ]
  },
  {
   "cell_type": "code",
   "execution_count": 15,
   "id": "6291e865",
   "metadata": {},
   "outputs": [
    {
     "name": "stdout",
     "output_type": "stream",
     "text": [
      "                      date  Appliances  lights        T1      RH_1        T2  \\\n",
      "0      2016-01-11 17:00:00          60      30  3.273495  5.661866  2.253453   \n",
      "1      2016-01-11 17:10:00          60      30  3.273495  5.413265  2.253453   \n",
      "2      2016-01-11 17:20:00          50      30  3.273495  5.305018  2.253453   \n",
      "3      2016-01-11 17:30:00          50      40  3.273495  5.240804  2.253453   \n",
      "4      2016-01-11 17:40:00          60      40  3.273495  5.314191  2.253453   \n",
      "...                    ...         ...     ...       ...       ...       ...   \n",
      "19730  2016-05-27 17:20:00         100       0  9.267863  5.376571  7.116550   \n",
      "19731  2016-05-27 17:30:00          90       0  9.197466  5.360059  7.017688   \n",
      "19732  2016-05-27 17:40:00         270      10  9.197466  5.386662  6.926512   \n",
      "19733  2016-05-27 17:50:00         420      10  9.197466  5.494909  6.770535   \n",
      "19734  2016-05-27 18:00:00         430      10  9.197466  5.387579  6.661705   \n",
      "\n",
      "           RH_2        T3      RH_3        T4  ...      RH_9     T_out  \\\n",
      "0      6.840379  2.151878  7.460664  3.513514  ...  6.772903  3.729904   \n",
      "1      6.821398  2.151878  7.488705  3.513514  ...  6.785320  3.692390   \n",
      "2      6.794451  2.151878  7.555694  3.447447  ...  6.760486  3.654877   \n",
      "3      6.784141  2.151878  7.586852  3.414414  ...  6.719095  3.617363   \n",
      "4      6.767270  2.151878  7.586852  3.414414  ...  6.719095  3.579850   \n",
      "...         ...       ...       ...       ...  ...       ...       ...   \n",
      "19730  6.063093  8.308408  5.793737  8.648649  ...  7.294426  8.917471   \n",
      "19731  6.078358  8.253019  5.821779  8.648649  ...  7.294426  8.874598   \n",
      "19732  6.271976  8.183782  6.039882  8.648649  ...  7.294426  8.831726   \n",
      "19733  6.347174  8.050847  5.852937  8.648649  ...  7.305808  8.788853   \n",
      "19734  6.329017  7.995458  5.790622  8.648649  ...  7.317191  8.745981   \n",
      "\n",
      "       Press_mm_hg    RH_out  Windspeed  Visibility  Tdewpoint       rv1  \\\n",
      "0         0.976744  8.947368   5.000000    9.538462   5.384615  2.654489   \n",
      "1         1.000000  8.947368   4.761905    8.948718   5.339367  3.720829   \n",
      "2         1.023256  8.947368   4.523810    8.358974   5.294118  5.728477   \n",
      "3         1.046512  8.947368   4.285714    7.769231   5.248869  9.082611   \n",
      "4         1.069767  8.947368   4.047619    7.179487   5.203620  2.016109   \n",
      "...            ...       ...        ...         ...        ...       ...   \n",
      "19730     6.023256  4.166667   2.380952    3.487179   9.019608  8.619814   \n",
      "19731     6.023256  4.210526   2.500000    3.615385   9.004525  9.857257   \n",
      "19732     6.023256  4.254386   2.619048    3.743590   8.989442  5.839786   \n",
      "19733     6.023256  4.298246   2.738095    3.871795   8.974359  1.263715   \n",
      "19734     6.023256  4.342105   2.857143    4.000000   8.959276  6.823906   \n",
      "\n",
      "            rv2  class  \n",
      "0      2.654489   high  \n",
      "1      3.720829   high  \n",
      "2      5.728477    low  \n",
      "3      9.082611    low  \n",
      "4      2.016109   high  \n",
      "...         ...    ...  \n",
      "19730  8.619814   high  \n",
      "19731  9.857257   high  \n",
      "19732  5.839786   high  \n",
      "19733  1.263715   high  \n",
      "19734  6.823906   high  \n",
      "\n",
      "[19735 rows x 30 columns]\n",
      "time: 78 ms (started: 2022-11-21 20:53:55 +05:30)\n"
     ]
    }
   ],
   "source": [
    "#scaling the data\n",
    "scaler = MinMaxScaler(feature_range=(0,10))\n",
    "energy[['T1','RH_1','T2','RH_2','T3','RH_3','T4','RH_4','T5','RH_5','T6','RH_6','T7','RH_7','T8','RH_8','T9','RH_9','T_out','Press_mm_hg','RH_out','Windspeed','Visibility','Tdewpoint','rv1','rv2']] = scaler.fit_transform(energy[['T1','RH_1','T2','RH_2','T3','RH_3','T4','RH_4','T5','RH_5','T6','RH_6','T7','RH_7','T8','RH_8','T9','RH_9','T_out','Press_mm_hg','RH_out','Windspeed','Visibility','Tdewpoint','rv1','rv2']])\n",
    "energy_transformed = energy\n",
    "print(energy_transformed)"
   ]
  },
  {
   "cell_type": "code",
   "execution_count": 16,
   "id": "e4d94e98",
   "metadata": {},
   "outputs": [
    {
     "name": "stdout",
     "output_type": "stream",
     "text": [
      "time: 16 ms (started: 2022-11-21 20:54:06 +05:30)\n"
     ]
    }
   ],
   "source": [
    "#creating feature vector\n",
    "feature = energy_transformed.iloc[:, 3:29]"
   ]
  },
  {
   "cell_type": "code",
   "execution_count": 17,
   "id": "2a92052b",
   "metadata": {},
   "outputs": [
    {
     "name": "stdout",
     "output_type": "stream",
     "text": [
      "time: 15 ms (started: 2022-11-21 20:54:15 +05:30)\n"
     ]
    }
   ],
   "source": [
    "#splitting into test and train\n",
    "X = feature\n",
    "y = energy['class']\n",
    "X_train1,X_test1,y_train1,y_test1=train_test_split(X,y,test_size=0.3)"
   ]
  },
  {
   "cell_type": "code",
   "execution_count": 18,
   "id": "7eeb7261",
   "metadata": {},
   "outputs": [
    {
     "data": {
      "text/plain": [
       "GaussianNB()"
      ]
     },
     "execution_count": 18,
     "metadata": {},
     "output_type": "execute_result"
    },
    {
     "name": "stdout",
     "output_type": "stream",
     "text": [
      "time: 31 ms (started: 2022-11-21 20:54:32 +05:30)\n"
     ]
    }
   ],
   "source": [
    "#naive-bayes classifier\n",
    "clf1 = GaussianNB()\n",
    "clf1.fit(X_train1,y_train1)"
   ]
  },
  {
   "cell_type": "code",
   "execution_count": 19,
   "id": "ee10dc16",
   "metadata": {},
   "outputs": [
    {
     "name": "stdout",
     "output_type": "stream",
     "text": [
      "time: 47 ms (started: 2022-11-21 20:54:42 +05:30)\n"
     ]
    }
   ],
   "source": [
    "clf1_train = clf1.score(X_train1,y_train1)\n",
    "clf1_test = clf1.score(X_test1,y_test1)"
   ]
  },
  {
   "cell_type": "code",
   "execution_count": 20,
   "id": "f17e1442",
   "metadata": {},
   "outputs": [
    {
     "data": {
      "text/plain": [
       "SVC()"
      ]
     },
     "execution_count": 20,
     "metadata": {},
     "output_type": "execute_result"
    },
    {
     "name": "stdout",
     "output_type": "stream",
     "text": [
      "time: 7.41 s (started: 2022-11-21 20:54:51 +05:30)\n"
     ]
    }
   ],
   "source": [
    "#applying SVM classifier\n",
    "clf2 = svm.SVC()\n",
    "clf2.fit(X_train1, y_train1)"
   ]
  },
  {
   "cell_type": "code",
   "execution_count": 21,
   "id": "c9ad7943",
   "metadata": {},
   "outputs": [
    {
     "name": "stdout",
     "output_type": "stream",
     "text": [
      "time: 18 s (started: 2022-11-21 20:55:04 +05:30)\n"
     ]
    }
   ],
   "source": [
    "clf2_train = clf2.score(X_train1,y_train1)\n",
    "clf2_test = clf2.score(X_test1,y_test1)"
   ]
  },
  {
   "cell_type": "code",
   "execution_count": 22,
   "id": "243d0906",
   "metadata": {},
   "outputs": [
    {
     "data": {
      "text/plain": [
       "SVC(kernel='poly')"
      ]
     },
     "execution_count": 22,
     "metadata": {},
     "output_type": "execute_result"
    },
    {
     "name": "stdout",
     "output_type": "stream",
     "text": [
      "time: 16 s (started: 2022-11-21 20:56:15 +05:30)\n"
     ]
    }
   ],
   "source": [
    "#kernel function = 'poly'\n",
    "#applying SVM classifier\n",
    "clf3 = svm.SVC(kernel='poly')\n",
    "clf3.fit(X_train1, y_train1)"
   ]
  },
  {
   "cell_type": "code",
   "execution_count": 23,
   "id": "25cd5ce3",
   "metadata": {},
   "outputs": [
    {
     "name": "stdout",
     "output_type": "stream",
     "text": [
      "time: 4.59 s (started: 2022-11-21 20:56:39 +05:30)\n"
     ]
    }
   ],
   "source": [
    "clf3_train = clf3.score(X_train1,y_train1)\n",
    "clf3_test = clf3.score(X_test1,y_test1)"
   ]
  },
  {
   "cell_type": "code",
   "execution_count": 24,
   "id": "4b0637e1",
   "metadata": {},
   "outputs": [
    {
     "data": {
      "text/plain": [
       "KNeighborsClassifier(n_neighbors=6)"
      ]
     },
     "execution_count": 24,
     "metadata": {},
     "output_type": "execute_result"
    },
    {
     "name": "stdout",
     "output_type": "stream",
     "text": [
      "time: 15 ms (started: 2022-11-21 20:56:50 +05:30)\n"
     ]
    }
   ],
   "source": [
    "#K-NN classifier\n",
    "clf4 = KNeighborsClassifier(n_neighbors = 6)\n",
    "clf4.fit(X_train1, y_train1)"
   ]
  },
  {
   "cell_type": "code",
   "execution_count": 25,
   "id": "8a4704ad",
   "metadata": {},
   "outputs": [
    {
     "name": "stdout",
     "output_type": "stream",
     "text": [
      "time: 7.48 s (started: 2022-11-21 20:57:01 +05:30)\n"
     ]
    }
   ],
   "source": [
    "clf4_train = clf4.score(X_train1, y_train1)\n",
    "clf4_test = clf4.score(X_test1, y_test1)"
   ]
  },
  {
   "cell_type": "code",
   "execution_count": 26,
   "id": "301a57a4",
   "metadata": {},
   "outputs": [
    {
     "name": "stderr",
     "output_type": "stream",
     "text": [
      "C:\\Anaconda\\lib\\site-packages\\sklearn\\neural_network\\_multilayer_perceptron.py:549: ConvergenceWarning: lbfgs failed to converge (status=1):\n",
      "STOP: TOTAL NO. of ITERATIONS REACHED LIMIT.\n",
      "\n",
      "Increase the number of iterations (max_iter) or scale the data as shown in:\n",
      "    https://scikit-learn.org/stable/modules/preprocessing.html\n",
      "  self.n_iter_ = _check_optimize_result(\"lbfgs\", opt_res, self.max_iter)\n"
     ]
    },
    {
     "data": {
      "text/plain": [
       "MLPClassifier(activation='logistic', hidden_layer_sizes=(2,), random_state=1,\n",
       "              solver='lbfgs')"
      ]
     },
     "execution_count": 26,
     "metadata": {},
     "output_type": "execute_result"
    },
    {
     "name": "stdout",
     "output_type": "stream",
     "text": [
      "time: 625 ms (started: 2022-11-21 20:57:11 +05:30)\n"
     ]
    }
   ],
   "source": [
    "#MLP classifier\n",
    "clf5 = MLPClassifier(solver='lbfgs', activation='logistic', hidden_layer_sizes=(2,), random_state=1)\n",
    "clf5.fit(X_train1, y_train1)"
   ]
  },
  {
   "cell_type": "code",
   "execution_count": 27,
   "id": "d8277b68",
   "metadata": {},
   "outputs": [
    {
     "name": "stdout",
     "output_type": "stream",
     "text": [
      "time: 47 ms (started: 2022-11-21 20:57:40 +05:30)\n"
     ]
    }
   ],
   "source": [
    "clf5_train = clf5.score(X_train1, y_train1)\n",
    "clf5_test = clf5.score(X_test1, y_test1)"
   ]
  },
  {
   "cell_type": "code",
   "execution_count": 28,
   "id": "a87d2715",
   "metadata": {},
   "outputs": [
    {
     "data": {
      "text/plain": [
       "DecisionTreeClassifier()"
      ]
     },
     "execution_count": 28,
     "metadata": {},
     "output_type": "execute_result"
    },
    {
     "name": "stdout",
     "output_type": "stream",
     "text": [
      "time: 359 ms (started: 2022-11-21 20:57:50 +05:30)\n"
     ]
    }
   ],
   "source": [
    "clf6 = DecisionTreeClassifier()\n",
    "clf6.fit(X_train1,y_train1)"
   ]
  },
  {
   "cell_type": "code",
   "execution_count": 29,
   "id": "c4ac8331",
   "metadata": {},
   "outputs": [
    {
     "name": "stdout",
     "output_type": "stream",
     "text": [
      "time: 31 ms (started: 2022-11-21 20:58:00 +05:30)\n"
     ]
    }
   ],
   "source": [
    "clf6_train = clf6.score(X_train1, y_train1)\n",
    "clf6_test = clf6.score(X_test1,y_test1)"
   ]
  },
  {
   "cell_type": "code",
   "execution_count": 30,
   "id": "685d09c4",
   "metadata": {},
   "outputs": [
    {
     "name": "stdout",
     "output_type": "stream",
     "text": [
      "               0         1         2\n",
      "0       Gaussian  0.620892  0.611383\n",
      "1            SVC  0.765021  0.749704\n",
      "2       SVC-Poly  0.786521  0.772336\n",
      "3            KNN  0.831113  0.758318\n",
      "4            MLP  0.728174  0.723358\n",
      "5  Decision-Tree  1.000000  0.787198\n",
      "time: 31 ms (started: 2022-11-21 20:58:34 +05:30)\n"
     ]
    }
   ],
   "source": [
    "graph = [['Gaussian',clf1_train,clf1_test],\n",
    "         ['SVC',clf2_train,clf2_test],\n",
    "         ['SVC-Poly',clf3_train,clf3_test],\n",
    "         ['KNN',clf4_train,clf4_test],\n",
    "         ['MLP',clf5_train,clf5_test],\n",
    "         ['Decision-Tree',clf6_train,clf6_test]]\n",
    "graph = pd.DataFrame(graph)\n",
    "print(graph)"
   ]
  },
  {
   "cell_type": "code",
   "execution_count": 47,
   "id": "f8af00c4",
   "metadata": {},
   "outputs": [
    {
     "data": {
      "image/png": "[encoded data removed]",
      "text/plain": [
       "<Figure size 432x288 with 1 Axes>"
      ]
     },
     "metadata": {
      "needs_background": "light"
     },
     "output_type": "display_data"
    },
    {
     "name": "stdout",
     "output_type": "stream",
     "text": [
      "time: 125 ms (started: 2022-11-21 21:10:43 +05:30)\n"
     ]
    }
   ],
   "source": [
    "plt.bar(graph[0], graph[1], label = 'Train', color = 'purple')\n",
    "plt.bar(graph[0], graph[2], label = 'Test', color = 'crimson')\n",
    "plt.xlabel('Classifiers')\n",
    "plt.ylabel('Accuracy Score')\n",
    "plt.legend()\n",
    "plt.show()"
   ]
  },
  {
   "cell_type": "code",
   "execution_count": null,
   "id": "e7c9ec01",
   "metadata": {},
   "outputs": [],
   "source": []
  }
 ],
 "metadata": {
  "kernelspec": {
   "display_name": "Python 3 (ipykernel)",
   "language": "python",
   "name": "python3"
  },
  "language_info": {
   "codemirror_mode": {
    "name": "ipython",
    "version": 3
   },
   "file_extension": ".py",
   "mimetype": "text/x-python",
   "name": "python",
   "nbconvert_exporter": "python",
   "pygments_lexer": "ipython3",
   "version": "3.9.12"
  }
 },
 "nbformat": 4,
 "nbformat_minor": 5
}
