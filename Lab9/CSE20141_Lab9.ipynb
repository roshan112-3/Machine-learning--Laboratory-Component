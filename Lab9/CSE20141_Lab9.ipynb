{
 "cells": [
  {
   "cell_type": "code",
   "execution_count": 1,
   "id": "8e523abf",
   "metadata": {},
   "outputs": [
    {
     "name": "stdout",
     "output_type": "stream",
     "text": [
      "Defaulting to user installation because normal site-packages is not writeable\n",
      "Requirement already satisfied: ipython-autotime in c:\\users\\admin\\appdata\\roaming\\python\\python39\\site-packages (0.3.1)\n",
      "Requirement already satisfied: ipython in c:\\anaconda\\lib\\site-packages (from ipython-autotime) (8.2.0)\n",
      "Requirement already satisfied: jedi>=0.16 in c:\\anaconda\\lib\\site-packages (from ipython->ipython-autotime) (0.18.1)\n",
      "Requirement already satisfied: matplotlib-inline in c:\\anaconda\\lib\\site-packages (from ipython->ipython-autotime) (0.1.2)\n",
      "Requirement already satisfied: colorama in c:\\anaconda\\lib\\site-packages (from ipython->ipython-autotime) (0.4.4)\n",
      "Requirement already satisfied: traitlets>=5 in c:\\anaconda\\lib\\site-packages (from ipython->ipython-autotime) (5.1.1)\n",
      "Requirement already satisfied: backcall in c:\\anaconda\\lib\\site-packages (from ipython->ipython-autotime) (0.2.0)\n",
      "Requirement already satisfied: stack-data in c:\\anaconda\\lib\\site-packages (from ipython->ipython-autotime) (0.2.0)\n",
      "Requirement already satisfied: prompt-toolkit!=3.0.0,!=3.0.1,<3.1.0,>=2.0.0 in c:\\anaconda\\lib\\site-packages (from ipython->ipython-autotime) (3.0.20)\n",
      "Requirement already satisfied: setuptools>=18.5 in c:\\anaconda\\lib\\site-packages (from ipython->ipython-autotime) (61.2.0)\n",
      "Requirement already satisfied: pygments>=2.4.0 in c:\\anaconda\\lib\\site-packages (from ipython->ipython-autotime) (2.11.2)\n",
      "Requirement already satisfied: decorator in c:\\anaconda\\lib\\site-packages (from ipython->ipython-autotime) (5.1.1)\n",
      "Requirement already satisfied: pickleshare in c:\\anaconda\\lib\\site-packages (from ipython->ipython-autotime) (0.7.5)\n",
      "Requirement already satisfied: parso<0.9.0,>=0.8.0 in c:\\anaconda\\lib\\site-packages (from jedi>=0.16->ipython->ipython-autotime) (0.8.3)\n",
      "Requirement already satisfied: wcwidth in c:\\anaconda\\lib\\site-packages (from prompt-toolkit!=3.0.0,!=3.0.1,<3.1.0,>=2.0.0->ipython->ipython-autotime) (0.2.5)\n",
      "Requirement already satisfied: executing in c:\\anaconda\\lib\\site-packages (from stack-data->ipython->ipython-autotime) (0.8.3)\n",
      "Requirement already satisfied: asttokens in c:\\anaconda\\lib\\site-packages (from stack-data->ipython->ipython-autotime) (2.0.5)\n",
      "Requirement already satisfied: pure-eval in c:\\anaconda\\lib\\site-packages (from stack-data->ipython->ipython-autotime) (0.2.2)\n",
      "Requirement already satisfied: six in c:\\anaconda\\lib\\site-packages (from asttokens->stack-data->ipython->ipython-autotime) (1.16.0)\n",
      "time: 0 ns (started: 2022-12-06 20:26:40 +05:30)\n"
     ]
    }
   ],
   "source": [
    "!pip install ipython-autotime\n",
    "%load_ext autotime"
   ]
  },
  {
   "cell_type": "code",
   "execution_count": 24,
   "id": "4fa4af08",
   "metadata": {},
   "outputs": [
    {
     "name": "stdout",
     "output_type": "stream",
     "text": [
      "time: 31 ms (started: 2022-12-06 22:03:31 +05:30)\n"
     ]
    }
   ],
   "source": [
    "#import statements\n",
    "import pandas as pd\n",
    "import numpy as np\n",
    "import matplotlib.pyplot as plt\n",
    "from sklearn.linear_model import LinearRegression\n",
    "from sklearn.linear_model import LogisticRegression\n",
    "from sklearn.tree import DecisionTreeRegressor\n",
    "from sklearn.neighbors import KNeighborsRegressor\n",
    "from sklearn import svm\n",
    "from sklearn.neighbors import KNeighborsClassifier\n",
    "from sklearn.neural_network import MLPClassifier\n",
    "from sklearn.tree import DecisionTreeClassifier\n",
    "from sklearn.naive_bayes import GaussianNB\n",
    "from sklearn.model_selection import train_test_split\n",
    "from sklearn.preprocessing import MinMaxScaler\n",
    "from sklearn.metrics import mean_squared_error, r2_score"
   ]
  },
  {
   "cell_type": "code",
   "execution_count": 3,
   "id": "0a442599",
   "metadata": {},
   "outputs": [
    {
     "name": "stdout",
     "output_type": "stream",
     "text": [
      "                      date  Appliances  lights         T1       RH_1  \\\n",
      "0      2016-01-11 17:00:00          60      30  19.890000  47.596667   \n",
      "1      2016-01-11 17:10:00          60      30  19.890000  46.693333   \n",
      "2      2016-01-11 17:20:00          50      30  19.890000  46.300000   \n",
      "3      2016-01-11 17:30:00          50      40  19.890000  46.066667   \n",
      "4      2016-01-11 17:40:00          60      40  19.890000  46.333333   \n",
      "...                    ...         ...     ...        ...        ...   \n",
      "19730  2016-05-27 17:20:00         100       0  25.566667  46.560000   \n",
      "19731  2016-05-27 17:30:00          90       0  25.500000  46.500000   \n",
      "19732  2016-05-27 17:40:00         270      10  25.500000  46.596667   \n",
      "19733  2016-05-27 17:50:00         420      10  25.500000  46.990000   \n",
      "19734  2016-05-27 18:00:00         430      10  25.500000  46.600000   \n",
      "\n",
      "              T2       RH_2         T3       RH_3         T4  ...         T9  \\\n",
      "0      19.200000  44.790000  19.790000  44.730000  19.000000  ...  17.033333   \n",
      "1      19.200000  44.722500  19.790000  44.790000  19.000000  ...  17.066667   \n",
      "2      19.200000  44.626667  19.790000  44.933333  18.926667  ...  17.000000   \n",
      "3      19.200000  44.590000  19.790000  45.000000  18.890000  ...  17.000000   \n",
      "4      19.200000  44.530000  19.790000  45.000000  18.890000  ...  17.000000   \n",
      "...          ...        ...        ...        ...        ...  ...        ...   \n",
      "19730  25.890000  42.025714  27.200000  41.163333  24.700000  ...  23.200000   \n",
      "19731  25.754000  42.080000  27.133333  41.223333  24.700000  ...  23.200000   \n",
      "19732  25.628571  42.768571  27.050000  41.690000  24.700000  ...  23.200000   \n",
      "19733  25.414000  43.036000  26.890000  41.290000  24.700000  ...  23.200000   \n",
      "19734  25.264286  42.971429  26.823333  41.156667  24.700000  ...  23.200000   \n",
      "\n",
      "          RH_9      T_out  Press_mm_hg     RH_out  Windspeed  Visibility  \\\n",
      "0      45.5300   6.600000        733.5  92.000000   7.000000   63.000000   \n",
      "1      45.5600   6.483333        733.6  92.000000   6.666667   59.166667   \n",
      "2      45.5000   6.366667        733.7  92.000000   6.333333   55.333333   \n",
      "3      45.4000   6.250000        733.8  92.000000   6.000000   51.500000   \n",
      "4      45.4000   6.133333        733.9  92.000000   5.666667   47.666667   \n",
      "...        ...        ...          ...        ...        ...         ...   \n",
      "19730  46.7900  22.733333        755.2  55.666667   3.333333   23.666667   \n",
      "19731  46.7900  22.600000        755.2  56.000000   3.500000   24.500000   \n",
      "19732  46.7900  22.466667        755.2  56.333333   3.666667   25.333333   \n",
      "19733  46.8175  22.333333        755.2  56.666667   3.833333   26.166667   \n",
      "19734  46.8450  22.200000        755.2  57.000000   4.000000   27.000000   \n",
      "\n",
      "       Tdewpoint        rv1        rv2  \n",
      "0       5.300000  13.275433  13.275433  \n",
      "1       5.200000  18.606195  18.606195  \n",
      "2       5.100000  28.642668  28.642668  \n",
      "3       5.000000  45.410389  45.410389  \n",
      "4       4.900000  10.084097  10.084097  \n",
      "...          ...        ...        ...  \n",
      "19730  13.333333  43.096812  43.096812  \n",
      "19731  13.300000  49.282940  49.282940  \n",
      "19732  13.266667  29.199117  29.199117  \n",
      "19733  13.233333   6.322784   6.322784  \n",
      "19734  13.200000  34.118851  34.118851  \n",
      "\n",
      "[19735 rows x 29 columns]\n",
      "time: 156 ms (started: 2022-12-06 20:28:18 +05:30)\n"
     ]
    }
   ],
   "source": [
    "#reading dataset\n",
    "energy = pd.read_csv(r\"C:\\Users\\Admin\\OneDrive\\Desktop\\KAG_energydata_complete.csv\")\n",
    "print(energy)"
   ]
  },
  {
   "cell_type": "code",
   "execution_count": 4,
   "id": "1b9a0d39",
   "metadata": {},
   "outputs": [
    {
     "name": "stdout",
     "output_type": "stream",
     "text": [
      "                      date  Appliances  lights        T1      RH_1        T2  \\\n",
      "0      2016-01-11 17:00:00          60      30  3.273495  5.661866  2.253453   \n",
      "1      2016-01-11 17:10:00          60      30  3.273495  5.413265  2.253453   \n",
      "2      2016-01-11 17:20:00          50      30  3.273495  5.305018  2.253453   \n",
      "3      2016-01-11 17:30:00          50      40  3.273495  5.240804  2.253453   \n",
      "4      2016-01-11 17:40:00          60      40  3.273495  5.314191  2.253453   \n",
      "...                    ...         ...     ...       ...       ...       ...   \n",
      "19730  2016-05-27 17:20:00         100       0  9.267863  5.376571  7.116550   \n",
      "19731  2016-05-27 17:30:00          90       0  9.197466  5.360059  7.017688   \n",
      "19732  2016-05-27 17:40:00         270      10  9.197466  5.386662  6.926512   \n",
      "19733  2016-05-27 17:50:00         420      10  9.197466  5.494909  6.770535   \n",
      "19734  2016-05-27 18:00:00         430      10  9.197466  5.387579  6.661705   \n",
      "\n",
      "           RH_2        T3      RH_3        T4  ...        T9      RH_9  \\\n",
      "0      6.840379  2.151878  7.460664  3.513514  ...  2.230316  6.772903   \n",
      "1      6.821398  2.151878  7.488705  3.513514  ...  2.265002  6.785320   \n",
      "2      6.794451  2.151878  7.555694  3.447447  ...  2.195630  6.760486   \n",
      "3      6.784141  2.151878  7.586852  3.414414  ...  2.195630  6.719095   \n",
      "4      6.767270  2.151878  7.586852  3.414414  ...  2.195630  6.719095   \n",
      "...         ...       ...       ...       ...  ...       ...       ...   \n",
      "19730  6.063093  8.308408  5.793737  8.648649  ...  8.647242  7.294426   \n",
      "19731  6.078358  8.253019  5.821779  8.648649  ...  8.647242  7.294426   \n",
      "19732  6.271976  8.183782  6.039882  8.648649  ...  8.647242  7.294426   \n",
      "19733  6.347174  8.050847  5.852937  8.648649  ...  8.647242  7.305808   \n",
      "19734  6.329017  7.995458  5.790622  8.648649  ...  8.647242  7.317191   \n",
      "\n",
      "          T_out  Press_mm_hg    RH_out  Windspeed  Visibility  Tdewpoint  \\\n",
      "0      3.729904     0.976744  8.947368   5.000000    9.538462   5.384615   \n",
      "1      3.692390     1.000000  8.947368   4.761905    8.948718   5.339367   \n",
      "2      3.654877     1.023256  8.947368   4.523810    8.358974   5.294118   \n",
      "3      3.617363     1.046512  8.947368   4.285714    7.769231   5.248869   \n",
      "4      3.579850     1.069767  8.947368   4.047619    7.179487   5.203620   \n",
      "...         ...          ...       ...        ...         ...        ...   \n",
      "19730  8.917471     6.023256  4.166667   2.380952    3.487179   9.019608   \n",
      "19731  8.874598     6.023256  4.210526   2.500000    3.615385   9.004525   \n",
      "19732  8.831726     6.023256  4.254386   2.619048    3.743590   8.989442   \n",
      "19733  8.788853     6.023256  4.298246   2.738095    3.871795   8.974359   \n",
      "19734  8.745981     6.023256  4.342105   2.857143    4.000000   8.959276   \n",
      "\n",
      "            rv1       rv2  \n",
      "0      2.654489  2.654489  \n",
      "1      3.720829  3.720829  \n",
      "2      5.728477  5.728477  \n",
      "3      9.082611  9.082611  \n",
      "4      2.016109  2.016109  \n",
      "...         ...       ...  \n",
      "19730  8.619814  8.619814  \n",
      "19731  9.857257  9.857257  \n",
      "19732  5.839786  5.839786  \n",
      "19733  1.263715  1.263715  \n",
      "19734  6.823906  6.823906  \n",
      "\n",
      "[19735 rows x 29 columns]\n",
      "time: 63 ms (started: 2022-12-06 20:28:42 +05:30)\n"
     ]
    }
   ],
   "source": [
    "#scaling the data\n",
    "scaler = MinMaxScaler(feature_range=(0,10))\n",
    "energy[['T1','RH_1','T2','RH_2','T3','RH_3','T4','RH_4','T5','RH_5','T6','RH_6','T7','RH_7','T8','RH_8','T9','RH_9','T_out','Press_mm_hg','RH_out','Windspeed','Visibility','Tdewpoint','rv1','rv2']] = scaler.fit_transform(energy[['T1','RH_1','T2','RH_2','T3','RH_3','T4','RH_4','T5','RH_5','T6','RH_6','T7','RH_7','T8','RH_8','T9','RH_9','T_out','Press_mm_hg','RH_out','Windspeed','Visibility','Tdewpoint','rv1','rv2']])\n",
    "energy_transformed = energy\n",
    "print(energy_transformed)"
   ]
  },
  {
   "cell_type": "code",
   "execution_count": 5,
   "id": "f310302d",
   "metadata": {},
   "outputs": [
    {
     "data": {
      "text/plain": [
       "<matplotlib.collections.PathCollection at 0x167467e68b0>"
      ]
     },
     "execution_count": 5,
     "metadata": {},
     "output_type": "execute_result"
    },
    {
     "data": {
      "image/png": "[encoded data removed]",
      "text/plain": [
       "<Figure size 432x288 with 1 Axes>"
      ]
     },
     "metadata": {
      "needs_background": "light"
     },
     "output_type": "display_data"
    },
    {
     "name": "stdout",
     "output_type": "stream",
     "text": [
      "time: 234 ms (started: 2022-12-06 20:28:55 +05:30)\n"
     ]
    }
   ],
   "source": [
    "plt.scatter(x = energy[\"T7\"] , y = energy[\"T9\"])"
   ]
  },
  {
   "cell_type": "markdown",
   "id": "05441545",
   "metadata": {},
   "source": [
    "The above scatter plot signifies the relationship between the temperature in the ironing room and the temperature in the parents room. The relation depicted is a linear positive relation, hence, one factor increases as the other increases."
   ]
  },
  {
   "cell_type": "code",
   "execution_count": 6,
   "id": "941b4f1a",
   "metadata": {},
   "outputs": [
    {
     "name": "stdout",
     "output_type": "stream",
     "text": [
      "             T7        T9\n",
      "0      1.705938  2.230316\n",
      "1      1.705938  2.265002\n",
      "2      1.705938  2.195630\n",
      "3      1.643104  2.195630\n",
      "4      1.705938  2.195630\n",
      "...         ...       ...\n",
      "19730  8.586239  8.647242\n",
      "19731  8.640097  8.647242\n",
      "19732  8.623940  8.647242\n",
      "19733  8.586239  8.647242\n",
      "19734  8.586239  8.647242\n",
      "\n",
      "[19735 rows x 2 columns]\n",
      "time: 16 ms (started: 2022-12-06 20:29:31 +05:30)\n"
     ]
    }
   ],
   "source": [
    "energy_temp = energy[['T7','T9']]\n",
    "print(energy_temp)"
   ]
  },
  {
   "cell_type": "code",
   "execution_count": 7,
   "id": "90c95c42",
   "metadata": {},
   "outputs": [
    {
     "name": "stdout",
     "output_type": "stream",
     "text": [
      "time: 15 ms (started: 2022-12-06 20:29:41 +05:30)\n"
     ]
    }
   ],
   "source": [
    "#splitting into test and train\n",
    "X = energy_temp['T7']\n",
    "y = energy_temp['T9']\n",
    "X_train,X_test,y_train,y_test=train_test_split(X,y,test_size=0.3)\n",
    "X_train = X_train.array.reshape(-1,1)\n",
    "y_train = y_train.array.reshape(-1,1)\n",
    "X_test = X_test.array.reshape(-1,1)\n",
    "y_test = y_test.array.reshape(-1,1)"
   ]
  },
  {
   "cell_type": "code",
   "execution_count": 8,
   "id": "27787d86",
   "metadata": {},
   "outputs": [
    {
     "data": {
      "text/plain": [
       "LinearRegression()"
      ]
     },
     "execution_count": 8,
     "metadata": {},
     "output_type": "execute_result"
    },
    {
     "name": "stdout",
     "output_type": "stream",
     "text": [
      "time: 31 ms (started: 2022-12-06 20:29:50 +05:30)\n"
     ]
    }
   ],
   "source": [
    "#linear regression classifier\n",
    "clf = LinearRegression()\n",
    "clf.fit(X_train,y_train)"
   ]
  },
  {
   "cell_type": "code",
   "execution_count": 9,
   "id": "96637e56",
   "metadata": {},
   "outputs": [
    {
     "name": "stdout",
     "output_type": "stream",
     "text": [
      "0.8922038177223514\n",
      "0.8934822479046314\n",
      "time: 0 ns (started: 2022-12-06 20:30:00 +05:30)\n"
     ]
    }
   ],
   "source": [
    "clf_train = clf.score(X_train,y_train)\n",
    "clf_test = clf.score(X_test,y_test)\n",
    "print(clf_train)\n",
    "print(clf_test)"
   ]
  },
  {
   "cell_type": "code",
   "execution_count": 10,
   "id": "28f9b155",
   "metadata": {},
   "outputs": [
    {
     "name": "stdout",
     "output_type": "stream",
     "text": [
      "[[4.33208382]\n",
      " [5.26983798]\n",
      " [0.46853669]\n",
      " ...\n",
      " [8.55197754]\n",
      " [7.88617209]\n",
      " [5.3636134 ]]\n",
      "time: 0 ns (started: 2022-12-06 20:30:09 +05:30)\n"
     ]
    }
   ],
   "source": [
    "y_pred = clf.predict(X_test)\n",
    "print(y_pred)"
   ]
  },
  {
   "cell_type": "code",
   "execution_count": 11,
   "id": "2a386bda",
   "metadata": {},
   "outputs": [
    {
     "name": "stdout",
     "output_type": "stream",
     "text": [
      "0.47935001959652507\n",
      "time: 0 ns (started: 2022-12-06 20:30:31 +05:30)\n"
     ]
    }
   ],
   "source": [
    "print(mean_squared_error(y_test, y_pred))"
   ]
  },
  {
   "cell_type": "code",
   "execution_count": 12,
   "id": "369868bb",
   "metadata": {},
   "outputs": [
    {
     "name": "stdout",
     "output_type": "stream",
     "text": [
      "                      date  Appliances  lights        T1      RH_1        T2  \\\n",
      "0      2016-01-11 17:00:00          60      30  3.273495  5.661866  2.253453   \n",
      "1      2016-01-11 17:10:00          60      30  3.273495  5.413265  2.253453   \n",
      "2      2016-01-11 17:20:00          50      30  3.273495  5.305018  2.253453   \n",
      "3      2016-01-11 17:30:00          50      40  3.273495  5.240804  2.253453   \n",
      "4      2016-01-11 17:40:00          60      40  3.273495  5.314191  2.253453   \n",
      "...                    ...         ...     ...       ...       ...       ...   \n",
      "19730  2016-05-27 17:20:00         100       0  9.267863  5.376571  7.116550   \n",
      "19731  2016-05-27 17:30:00          90       0  9.197466  5.360059  7.017688   \n",
      "19732  2016-05-27 17:40:00         270      10  9.197466  5.386662  6.926512   \n",
      "19733  2016-05-27 17:50:00         420      10  9.197466  5.494909  6.770535   \n",
      "19734  2016-05-27 18:00:00         430      10  9.197466  5.387579  6.661705   \n",
      "\n",
      "           RH_2        T3      RH_3        T4  ...      RH_9     T_out  \\\n",
      "0      6.840379  2.151878  7.460664  3.513514  ...  6.772903  3.729904   \n",
      "1      6.821398  2.151878  7.488705  3.513514  ...  6.785320  3.692390   \n",
      "2      6.794451  2.151878  7.555694  3.447447  ...  6.760486  3.654877   \n",
      "3      6.784141  2.151878  7.586852  3.414414  ...  6.719095  3.617363   \n",
      "4      6.767270  2.151878  7.586852  3.414414  ...  6.719095  3.579850   \n",
      "...         ...       ...       ...       ...  ...       ...       ...   \n",
      "19730  6.063093  8.308408  5.793737  8.648649  ...  7.294426  8.917471   \n",
      "19731  6.078358  8.253019  5.821779  8.648649  ...  7.294426  8.874598   \n",
      "19732  6.271976  8.183782  6.039882  8.648649  ...  7.294426  8.831726   \n",
      "19733  6.347174  8.050847  5.852937  8.648649  ...  7.305808  8.788853   \n",
      "19734  6.329017  7.995458  5.790622  8.648649  ...  7.317191  8.745981   \n",
      "\n",
      "       Press_mm_hg    RH_out  Windspeed  Visibility  Tdewpoint       rv1  \\\n",
      "0         0.976744  8.947368   5.000000    9.538462   5.384615  2.654489   \n",
      "1         1.000000  8.947368   4.761905    8.948718   5.339367  3.720829   \n",
      "2         1.023256  8.947368   4.523810    8.358974   5.294118  5.728477   \n",
      "3         1.046512  8.947368   4.285714    7.769231   5.248869  9.082611   \n",
      "4         1.069767  8.947368   4.047619    7.179487   5.203620  2.016109   \n",
      "...            ...       ...        ...         ...        ...       ...   \n",
      "19730     6.023256  4.166667   2.380952    3.487179   9.019608  8.619814   \n",
      "19731     6.023256  4.210526   2.500000    3.615385   9.004525  9.857257   \n",
      "19732     6.023256  4.254386   2.619048    3.743590   8.989442  5.839786   \n",
      "19733     6.023256  4.298246   2.738095    3.871795   8.974359  1.263715   \n",
      "19734     6.023256  4.342105   2.857143    4.000000   8.959276  6.823906   \n",
      "\n",
      "            rv2  class  \n",
      "0      2.654489   high  \n",
      "1      3.720829   high  \n",
      "2      5.728477    low  \n",
      "3      9.082611    low  \n",
      "4      2.016109   high  \n",
      "...         ...    ...  \n",
      "19730  8.619814   high  \n",
      "19731  9.857257   high  \n",
      "19732  5.839786   high  \n",
      "19733  1.263715   high  \n",
      "19734  6.823906   high  \n",
      "\n",
      "[19735 rows x 30 columns]\n",
      "time: 16 ms (started: 2022-12-06 20:30:45 +05:30)\n"
     ]
    }
   ],
   "source": [
    "#classification based on appliance usage from LAB 3\n",
    "def explore(row: float):\n",
    "  if row >= 60:\n",
    "    return 'high'\n",
    "  else:\n",
    "    return 'low'\n",
    "\n",
    "appliance = energy['Appliances'].tolist()\n",
    "classified_data = []\n",
    "for i in appliance:\n",
    "  classified_data.append(explore(i))\n",
    "\n",
    "energy['class']=classified_data\n",
    "print(energy)"
   ]
  },
  {
   "cell_type": "code",
   "execution_count": 13,
   "id": "26e216b9",
   "metadata": {},
   "outputs": [
    {
     "name": "stdout",
     "output_type": "stream",
     "text": [
      "time: 0 ns (started: 2022-12-06 20:31:00 +05:30)\n"
     ]
    }
   ],
   "source": [
    "#creating feature vector\n",
    "feature = energy_transformed.iloc[:, 3:29]"
   ]
  },
  {
   "cell_type": "code",
   "execution_count": 14,
   "id": "9f85ecdd",
   "metadata": {},
   "outputs": [
    {
     "name": "stdout",
     "output_type": "stream",
     "text": [
      "time: 0 ns (started: 2022-12-06 20:31:11 +05:30)\n"
     ]
    }
   ],
   "source": [
    "#splitting into test and train\n",
    "X = feature\n",
    "y = energy['class']\n",
    "X_train1,X_test1,y_train1,y_test1=train_test_split(X,y,test_size=0.3)"
   ]
  },
  {
   "cell_type": "code",
   "execution_count": 15,
   "id": "ba0031a3",
   "metadata": {},
   "outputs": [
    {
     "name": "stderr",
     "output_type": "stream",
     "text": [
      "C:\\Anaconda\\lib\\site-packages\\sklearn\\linear_model\\_logistic.py:814: ConvergenceWarning: lbfgs failed to converge (status=1):\n",
      "STOP: TOTAL NO. of ITERATIONS REACHED LIMIT.\n",
      "\n",
      "Increase the number of iterations (max_iter) or scale the data as shown in:\n",
      "    https://scikit-learn.org/stable/modules/preprocessing.html\n",
      "Please also refer to the documentation for alternative solver options:\n",
      "    https://scikit-learn.org/stable/modules/linear_model.html#logistic-regression\n",
      "  n_iter_i = _check_optimize_result(\n"
     ]
    },
    {
     "data": {
      "text/plain": [
       "LogisticRegression()"
      ]
     },
     "execution_count": 15,
     "metadata": {},
     "output_type": "execute_result"
    },
    {
     "name": "stdout",
     "output_type": "stream",
     "text": [
      "time: 140 ms (started: 2022-12-06 20:31:30 +05:30)\n"
     ]
    }
   ],
   "source": [
    "#logistic regression classifier\n",
    "clf1 = LogisticRegression()\n",
    "clf1.fit(X_train1,y_train1)"
   ]
  },
  {
   "cell_type": "code",
   "execution_count": 16,
   "id": "05bd21cd",
   "metadata": {},
   "outputs": [
    {
     "name": "stdout",
     "output_type": "stream",
     "text": [
      "0.7249891414507021\n",
      "0.7267353487586556\n",
      "time: 31 ms (started: 2022-12-06 20:31:53 +05:30)\n"
     ]
    }
   ],
   "source": [
    "clf_train1 = clf1.score(X_train1,y_train1)\n",
    "clf_test1 = clf1.score(X_test1,y_test1)\n",
    "print(clf_train1)\n",
    "print(clf_test1)"
   ]
  },
  {
   "cell_type": "code",
   "execution_count": 17,
   "id": "9f0e550d",
   "metadata": {},
   "outputs": [
    {
     "data": {
      "text/plain": [
       "DecisionTreeRegressor()"
      ]
     },
     "execution_count": 17,
     "metadata": {},
     "output_type": "execute_result"
    },
    {
     "name": "stdout",
     "output_type": "stream",
     "text": [
      "time: 15 ms (started: 2022-12-06 20:32:02 +05:30)\n"
     ]
    }
   ],
   "source": [
    "#regression tree\n",
    "clf2 = DecisionTreeRegressor()\n",
    "clf2.fit(X_train,y_train)"
   ]
  },
  {
   "cell_type": "code",
   "execution_count": 40,
   "id": "82ed9091",
   "metadata": {},
   "outputs": [
    {
     "name": "stdout",
     "output_type": "stream",
     "text": [
      "time: 0 ns (started: 2022-12-06 22:10:48 +05:30)\n"
     ]
    }
   ],
   "source": [
    "clf2_train = clf2.score(X_train,y_train)\n",
    "clf2_test = clf2.score(X_test,y_test)"
   ]
  },
  {
   "cell_type": "code",
   "execution_count": 18,
   "id": "1eb15a53",
   "metadata": {},
   "outputs": [
    {
     "name": "stdout",
     "output_type": "stream",
     "text": [
      "[4.28377795 5.31002111 0.54258956 ... 8.64440666 8.092265   5.63378615]\n",
      "time: 0 ns (started: 2022-12-06 20:32:16 +05:30)\n"
     ]
    }
   ],
   "source": [
    "y_pred1 = clf2.predict(X_test)\n",
    "print(y_pred1)"
   ]
  },
  {
   "cell_type": "code",
   "execution_count": 19,
   "id": "12903309",
   "metadata": {},
   "outputs": [
    {
     "name": "stdout",
     "output_type": "stream",
     "text": [
      "0.4278059792522803\n",
      "time: 0 ns (started: 2022-12-06 20:32:25 +05:30)\n"
     ]
    }
   ],
   "source": [
    "print(mean_squared_error(y_test, y_pred1))"
   ]
  },
  {
   "cell_type": "code",
   "execution_count": 21,
   "id": "e95a0a17",
   "metadata": {},
   "outputs": [
    {
     "data": {
      "text/plain": [
       "0.4210914101629278"
      ]
     },
     "execution_count": 21,
     "metadata": {},
     "output_type": "execute_result"
    },
    {
     "name": "stdout",
     "output_type": "stream",
     "text": [
      "time: 62 ms (started: 2022-12-06 22:02:40 +05:30)\n"
     ]
    }
   ],
   "source": [
    "#K-NN regressor\n",
    "clf9 = KNeighborsRegressor(n_neighbors = 20)\n",
    "clf9.fit(X_train,y_train)\n",
    "y_pred2 = clf9.predict(X_test)\n",
    "mean_squared_error(y_test,y_pred2)"
   ]
  },
  {
   "cell_type": "code",
   "execution_count": 22,
   "id": "7e901ad8",
   "metadata": {},
   "outputs": [
    {
     "name": "stdout",
     "output_type": "stream",
     "text": [
      "time: 63 ms (started: 2022-12-06 22:02:49 +05:30)\n"
     ]
    }
   ],
   "source": [
    "clf9_train = clf1.score(X_train1,y_train1)\n",
    "clf9_test = clf1.score(X_test1,y_test1)"
   ]
  },
  {
   "cell_type": "code",
   "execution_count": 25,
   "id": "03aad073",
   "metadata": {},
   "outputs": [
    {
     "data": {
      "text/plain": [
       "GaussianNB()"
      ]
     },
     "execution_count": 25,
     "metadata": {},
     "output_type": "execute_result"
    },
    {
     "name": "stdout",
     "output_type": "stream",
     "text": [
      "time: 47 ms (started: 2022-12-06 22:03:37 +05:30)\n"
     ]
    }
   ],
   "source": [
    "#naive-bayes classifier\n",
    "clf3 = GaussianNB()\n",
    "clf3.fit(X_train1,y_train1)"
   ]
  },
  {
   "cell_type": "code",
   "execution_count": 26,
   "id": "8c0a8672",
   "metadata": {},
   "outputs": [
    {
     "name": "stdout",
     "output_type": "stream",
     "text": [
      "time: 47 ms (started: 2022-12-06 22:03:58 +05:30)\n"
     ]
    }
   ],
   "source": [
    "clf3_train = clf3.score(X_train1,y_train1)\n",
    "clf3_test = clf3.score(X_test1,y_test1)"
   ]
  },
  {
   "cell_type": "code",
   "execution_count": 27,
   "id": "f70dee99",
   "metadata": {},
   "outputs": [
    {
     "data": {
      "text/plain": [
       "SVC()"
      ]
     },
     "execution_count": 27,
     "metadata": {},
     "output_type": "execute_result"
    },
    {
     "name": "stdout",
     "output_type": "stream",
     "text": [
      "time: 7.92 s (started: 2022-12-06 22:04:05 +05:30)\n"
     ]
    }
   ],
   "source": [
    "#applying SVM classifier\n",
    "clf4 = svm.SVC()\n",
    "clf4.fit(X_train1, y_train1)"
   ]
  },
  {
   "cell_type": "code",
   "execution_count": 28,
   "id": "dab0d187",
   "metadata": {},
   "outputs": [
    {
     "name": "stdout",
     "output_type": "stream",
     "text": [
      "time: 20.4 s (started: 2022-12-06 22:04:16 +05:30)\n"
     ]
    }
   ],
   "source": [
    "clf4_train = clf4.score(X_train1,y_train1)\n",
    "clf4_test = clf4.score(X_test1,y_test1)"
   ]
  },
  {
   "cell_type": "code",
   "execution_count": 29,
   "id": "20b07afa",
   "metadata": {},
   "outputs": [
    {
     "data": {
      "text/plain": [
       "SVC(kernel='poly')"
      ]
     },
     "execution_count": 29,
     "metadata": {},
     "output_type": "execute_result"
    },
    {
     "name": "stdout",
     "output_type": "stream",
     "text": [
      "time: 15.7 s (started: 2022-12-06 22:05:03 +05:30)\n"
     ]
    }
   ],
   "source": [
    "#kernel function = 'poly'\n",
    "#applying SVM classifier\n",
    "clf5 = svm.SVC(kernel='poly')\n",
    "clf5.fit(X_train1, y_train1)"
   ]
  },
  {
   "cell_type": "code",
   "execution_count": 30,
   "id": "ef556adf",
   "metadata": {},
   "outputs": [
    {
     "name": "stdout",
     "output_type": "stream",
     "text": [
      "time: 5.22 s (started: 2022-12-06 22:05:21 +05:30)\n"
     ]
    }
   ],
   "source": [
    "clf5_train = clf5.score(X_train1,y_train1)\n",
    "clf5_test = clf5.score(X_test1,y_test1)"
   ]
  },
  {
   "cell_type": "code",
   "execution_count": 31,
   "id": "509cbf46",
   "metadata": {},
   "outputs": [
    {
     "data": {
      "text/plain": [
       "KNeighborsClassifier(n_neighbors=6)"
      ]
     },
     "execution_count": 31,
     "metadata": {},
     "output_type": "execute_result"
    },
    {
     "name": "stdout",
     "output_type": "stream",
     "text": [
      "time: 0 ns (started: 2022-12-06 22:05:29 +05:30)\n"
     ]
    }
   ],
   "source": [
    "#K-NN classifier\n",
    "clf6 = KNeighborsClassifier(n_neighbors = 6)\n",
    "clf6.fit(X_train1, y_train1)"
   ]
  },
  {
   "cell_type": "code",
   "execution_count": 32,
   "id": "91afdbee",
   "metadata": {},
   "outputs": [
    {
     "name": "stdout",
     "output_type": "stream",
     "text": [
      "time: 7.36 s (started: 2022-12-06 22:05:35 +05:30)\n"
     ]
    }
   ],
   "source": [
    "clf6_train = clf6.score(X_train1, y_train1)\n",
    "clf6_test = clf6.score(X_test1, y_test1)"
   ]
  },
  {
   "cell_type": "code",
   "execution_count": 33,
   "id": "0a2120cc",
   "metadata": {},
   "outputs": [
    {
     "name": "stderr",
     "output_type": "stream",
     "text": [
      "C:\\Anaconda\\lib\\site-packages\\sklearn\\neural_network\\_multilayer_perceptron.py:549: ConvergenceWarning: lbfgs failed to converge (status=1):\n",
      "STOP: TOTAL NO. of ITERATIONS REACHED LIMIT.\n",
      "\n",
      "Increase the number of iterations (max_iter) or scale the data as shown in:\n",
      "    https://scikit-learn.org/stable/modules/preprocessing.html\n",
      "  self.n_iter_ = _check_optimize_result(\"lbfgs\", opt_res, self.max_iter)\n"
     ]
    },
    {
     "data": {
      "text/plain": [
       "MLPClassifier(activation='logistic', hidden_layer_sizes=(2,), random_state=1,\n",
       "              solver='lbfgs')"
      ]
     },
     "execution_count": 33,
     "metadata": {},
     "output_type": "execute_result"
    },
    {
     "name": "stdout",
     "output_type": "stream",
     "text": [
      "time: 781 ms (started: 2022-12-06 22:05:44 +05:30)\n"
     ]
    }
   ],
   "source": [
    "#MLP classifier\n",
    "clf7 = MLPClassifier(solver='lbfgs', activation='logistic', hidden_layer_sizes=(2,), random_state=1)\n",
    "clf7.fit(X_train1, y_train1)"
   ]
  },
  {
   "cell_type": "code",
   "execution_count": 34,
   "id": "f2b313a4",
   "metadata": {},
   "outputs": [
    {
     "name": "stdout",
     "output_type": "stream",
     "text": [
      "time: 79 ms (started: 2022-12-06 22:05:53 +05:30)\n"
     ]
    }
   ],
   "source": [
    "clf7_train = clf7.score(X_train1, y_train1)\n",
    "clf7_test = clf7.score(X_test1, y_test1)"
   ]
  },
  {
   "cell_type": "code",
   "execution_count": 35,
   "id": "7660d937",
   "metadata": {},
   "outputs": [
    {
     "data": {
      "text/plain": [
       "DecisionTreeClassifier()"
      ]
     },
     "execution_count": 35,
     "metadata": {},
     "output_type": "execute_result"
    },
    {
     "name": "stdout",
     "output_type": "stream",
     "text": [
      "time: 344 ms (started: 2022-12-06 22:06:01 +05:30)\n"
     ]
    }
   ],
   "source": [
    "clf8 = DecisionTreeClassifier()\n",
    "clf8.fit(X_train1,y_train1)"
   ]
  },
  {
   "cell_type": "code",
   "execution_count": 36,
   "id": "0cc15a0f",
   "metadata": {},
   "outputs": [
    {
     "name": "stdout",
     "output_type": "stream",
     "text": [
      "time: 32 ms (started: 2022-12-06 22:06:09 +05:30)\n"
     ]
    }
   ],
   "source": [
    "clf8_train = clf8.score(X_train1, y_train1)\n",
    "clf8_test = clf8.score(X_test1,y_test1)"
   ]
  },
  {
   "cell_type": "code",
   "execution_count": 37,
   "id": "587ae36a",
   "metadata": {},
   "outputs": [
    {
     "name": "stdout",
     "output_type": "stream",
     "text": [
      "               0         1         2\n",
      "0           K-NN  0.835674  0.761865\n",
      "1            SVM  0.766976  0.765918\n",
      "2       SVM-Poly  0.787534  0.777571\n",
      "3            MLP  0.726727  0.726060\n",
      "4  Decision-Tree  1.000000  0.782807\n",
      "5  NB classifier  0.617634  0.620503\n",
      "time: 15 ms (started: 2022-12-06 22:07:18 +05:30)\n"
     ]
    }
   ],
   "source": [
    "graph = [['K-NN',clf6_train,clf6_test],\n",
    "         ['SVM',clf4_train,clf4_test],\n",
    "         ['SVM-Poly',clf5_train,clf5_test],\n",
    "         ['MLP',clf7_train,clf7_test],\n",
    "         ['Decision-Tree',clf8_train,clf8_test],\n",
    "         ['NB classifier',clf3_train,clf3_test]]\n",
    "graph = pd.DataFrame(graph)\n",
    "print(graph)"
   ]
  },
  {
   "cell_type": "code",
   "execution_count": 38,
   "id": "4c8ba6b4",
   "metadata": {},
   "outputs": [
    {
     "data": {
      "image/png": "[encoded data removed]",
      "text/plain": [
       "<Figure size 432x288 with 1 Axes>"
      ]
     },
     "metadata": {
      "needs_background": "light"
     },
     "output_type": "display_data"
    },
    {
     "name": "stdout",
     "output_type": "stream",
     "text": [
      "time: 172 ms (started: 2022-12-06 22:08:11 +05:30)\n"
     ]
    }
   ],
   "source": [
    "plt.bar(graph[0], graph[1], label = 'Train', color = 'purple')\n",
    "plt.bar(graph[0], graph[2], label = 'Test' , color = 'crimson')\n",
    "plt.xlabel('Classifiers')\n",
    "plt.ylabel('Accuracy Score')\n",
    "plt.legend()\n",
    "plt.show()"
   ]
  },
  {
   "cell_type": "code",
   "execution_count": 48,
   "id": "f6d26d72",
   "metadata": {},
   "outputs": [
    {
     "name": "stdout",
     "output_type": "stream",
     "text": [
      "                         0         1         2\n",
      "0           K-NN Regressor  0.724989  0.726735\n",
      "1         Linear Regressor  0.892204  0.893482\n",
      "2  Decision Tree Regressor  0.922212  0.904936\n",
      "time: 16 ms (started: 2022-12-06 22:24:13 +05:30)\n"
     ]
    }
   ],
   "source": [
    "graph1 = [['K-NN Regressor',clf9_train,clf9_test],\n",
    "         ['Linear Regressor',clf_train,clf_test],\n",
    "         ['Decision Tree Regressor',clf2_train,clf2_test]]\n",
    "graph1 = pd.DataFrame(graph1)\n",
    "print(graph1)"
   ]
  },
  {
   "cell_type": "code",
   "execution_count": 49,
   "id": "8c06559f",
   "metadata": {},
   "outputs": [
    {
     "data": {
      "image/png": "[encoded data removed]",
      "text/plain": [
       "<Figure size 432x288 with 1 Axes>"
      ]
     },
     "metadata": {
      "needs_background": "light"
     },
     "output_type": "display_data"
    },
    {
     "name": "stdout",
     "output_type": "stream",
     "text": [
      "time: 109 ms (started: 2022-12-06 22:24:15 +05:30)\n"
     ]
    }
   ],
   "source": [
    "plt.bar(graph1[0], graph1[1], label = 'Train', color = 'purple')\n",
    "plt.bar(graph1[0], graph1[2], label = 'Test', color = 'crimson')\n",
    "plt.xlabel('Regressors')\n",
    "plt.ylabel('Accuracy Score')\n",
    "plt.legend()\n",
    "plt.show()"
   ]
  },
  {
   "cell_type": "code",
   "execution_count": null,
   "id": "7a9d47d6",
   "metadata": {},
   "outputs": [],
   "source": []
  }
 ],
 "metadata": {
  "kernelspec": {
   "display_name": "Python 3 (ipykernel)",
   "language": "python",
   "name": "python3"
  },
  "language_info": {
   "codemirror_mode": {
    "name": "ipython",
    "version": 3
   },
   "file_extension": ".py",
   "mimetype": "text/x-python",
   "name": "python",
   "nbconvert_exporter": "python",
   "pygments_lexer": "ipython3",
   "version": "3.9.12"
  }
 },
 "nbformat": 4,
 "nbformat_minor": 5
}
