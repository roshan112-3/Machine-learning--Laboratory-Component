{
 "cells": [
  {
   "cell_type": "code",
   "execution_count": 1,
   "id": "ac5ea7e3",
   "metadata": {},
   "outputs": [],
   "source": [
    "import numpy as np"
   ]
  },
  {
   "cell_type": "code",
   "execution_count": 35,
   "id": "e8c4327c",
   "metadata": {},
   "outputs": [
    {
     "name": "stdout",
     "output_type": "stream",
     "text": [
      "[686 542 179 919 876 496 847 285 125 462 916  34 362 523 377 544 377 917\n",
      " 198 328  97 843 615  53 575 726 875  33 792 356 477 784 318 474 207 769\n",
      " 540 918 869 334 397 488   0 250 829 834  35  35 347 480 279 264 647 323\n",
      " 588 739 647 187 996 970  59 443 296 129 203 701 971 571 241 412 435 508\n",
      " 261 963 203 608 147 815 562  62 143  32 482 633 570 529  56 293 871 949\n",
      " 221 765 768 378 918 810  14 268 669 228]\n"
     ]
    }
   ],
   "source": [
    "#prgm 1\n",
    "V1 = np.random.randint(1000 , size = 100)\n",
    "print(V1)"
   ]
  },
  {
   "cell_type": "code",
   "execution_count": 36,
   "id": "759cd476",
   "metadata": {},
   "outputs": [
    {
     "name": "stdout",
     "output_type": "stream",
     "text": [
      "[  0  14  32  33  34  35  35  53  56  59  62  97 125 129 143 147 179 187\n",
      " 198 203 203 207 221 228 241 250 261 264 268 279 285 293 296 318 323 328\n",
      " 334 347 356 362 377 377 378 397 412 435 443 462 474 477 480 482 488 496\n",
      " 508 523 529 540 542 544 562 570 571 575 588 608 615 633 647 647 669 686\n",
      " 701 726 739 765 768 769 784 792 810 815 829 834 843 847 869 871 875 876\n",
      " 916 917 918 918 919 949 963 970 971 996]\n",
      "100\n"
     ]
    }
   ],
   "source": [
    "V1.sort()\n",
    "print(V1)\n",
    "print(len(V1))"
   ]
  },
  {
   "cell_type": "code",
   "execution_count": 37,
   "id": "c9b656ba",
   "metadata": {},
   "outputs": [
    {
     "name": "stdout",
     "output_type": "stream",
     "text": [
      "100\n"
     ]
    },
    {
     "data": {
      "text/plain": [
       "array([   0,   42,   96,   99,  102,  105,  105,  159,  168,  177,  186,\n",
       "        291,  375,  387,  429,  441,  537,  561,  594,  609,  609,  621,\n",
       "        663,  684,  723,  750,  783,  792,  804,  837,  855,  879,  888,\n",
       "        954,  969,  984, 1002, 1041, 1068, 1086, 1131, 1131, 1134, 1191,\n",
       "       1236, 1305, 1329, 1386, 1422, 1431, 1440, 1446, 1464, 1488, 1524,\n",
       "       1569, 1587, 1620, 1626, 1632, 1686, 1710, 1713, 1725, 1764, 1824,\n",
       "       1845, 1899, 1941, 1941, 2007, 2058, 2103, 2178, 2217, 2295, 2304,\n",
       "       2307, 2352, 2376, 2430, 2445, 2487, 2502, 2529, 2541, 2607, 2613,\n",
       "       2625, 2628, 2748, 2751, 2754, 2754, 2757, 2847, 2889, 2910, 2913,\n",
       "       2988])"
      ]
     },
     "execution_count": 37,
     "metadata": {},
     "output_type": "execute_result"
    }
   ],
   "source": [
    "#prgm 2\n",
    "V2 = V1 * 3\n",
    "print(len(V1))\n",
    "V2"
   ]
  },
  {
   "cell_type": "code",
   "execution_count": 38,
   "id": "a03c4213",
   "metadata": {},
   "outputs": [
    {
     "name": "stdout",
     "output_type": "stream",
     "text": [
      "1445.1\n",
      "867.1092491722135\n"
     ]
    }
   ],
   "source": [
    "#prgm 3\n",
    "print(V2.mean())\n",
    "print(np.std(V2))"
   ]
  },
  {
   "cell_type": "code",
   "execution_count": 31,
   "id": "93467779",
   "metadata": {},
   "outputs": [
    {
     "name": "stdout",
     "output_type": "stream",
     "text": [
      "[[0 0 0]\n",
      " [0 0 0]\n",
      " [0 0 0]\n",
      " [0 0 0]]\n"
     ]
    }
   ],
   "source": [
    "#prgm 4\n",
    "arr_1 = np.zeros([4,3] , dtype = 'int16')\n",
    "print(arr_1)"
   ]
  },
  {
   "cell_type": "code",
   "execution_count": 41,
   "id": "5e79c93d",
   "metadata": {},
   "outputs": [
    {
     "name": "stdout",
     "output_type": "stream",
     "text": [
      "[[92 50 78]\n",
      " [37 82 35]\n",
      " [93 53 37]\n",
      " [43  9  4]]\n"
     ]
    }
   ],
   "source": [
    "arr_1 = np.random.randint(100 , size = [4,3])\n",
    "print(arr_1)"
   ]
  },
  {
   "cell_type": "code",
   "execution_count": 43,
   "id": "6324ba16",
   "metadata": {},
   "outputs": [
    {
     "name": "stdout",
     "output_type": "stream",
     "text": [
      "[92 50 78 37 82 35 93 53 37 43  9  4]\n"
     ]
    }
   ],
   "source": [
    "arr_2 = arr_1.flatten()\n",
    "print(arr_2)"
   ]
  },
  {
   "cell_type": "code",
   "execution_count": 46,
   "id": "25dfa440",
   "metadata": {},
   "outputs": [
    {
     "ename": "SyntaxError",
     "evalue": "invalid character '“' (U+201C) (4016309686.py, line 2)",
     "output_type": "error",
     "traceback": [
      "\u001b[1;36m  Input \u001b[1;32mIn [46]\u001b[1;36m\u001b[0m\n\u001b[1;33m    S1 = “I am a great learner. I am going to have an awesome life.”\u001b[0m\n\u001b[1;37m         ^\u001b[0m\n\u001b[1;31mSyntaxError\u001b[0m\u001b[1;31m:\u001b[0m invalid character '“' (U+201C)\n"
     ]
    }
   ],
   "source": [
    "#prgm 5\n",
    "S1 = “I am a great learner. I am going to have an awesome life.”\n",
    "print(S1.where(\"am\"))"
   ]
  },
  {
   "cell_type": "code",
   "execution_count": null,
   "id": "d0b316a8",
   "metadata": {},
   "outputs": [],
   "source": []
  },
  {
   "cell_type": "code",
   "execution_count": null,
   "id": "cd5d5d94",
   "metadata": {},
   "outputs": [],
   "source": []
  }
 ],
 "metadata": {
  "kernelspec": {
   "display_name": "Python 3 (ipykernel)",
   "language": "python",
   "name": "python3"
  },
  "language_info": {
   "codemirror_mode": {
    "name": "ipython",
    "version": 3
   },
   "file_extension": ".py",
   "mimetype": "text/x-python",
   "name": "python",
   "nbconvert_exporter": "python",
   "pygments_lexer": "ipython3",
   "version": "3.9.12"
  }
 },
 "nbformat": 4,
 "nbformat_minor": 5
}
